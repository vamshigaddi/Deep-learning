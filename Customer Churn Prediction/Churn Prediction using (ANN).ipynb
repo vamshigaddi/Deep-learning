{
 "cells": [
  {
   "cell_type": "markdown",
   "id": "b7f97576",
   "metadata": {},
   "source": [
    "<h2 style='color:blue';>Customer Churn Prediction Using Artificial Neural Network (ANN)</h2>"
   ]
  },
  {
   "cell_type": "markdown",
   "id": "72c69283",
   "metadata": {},
   "source": []
  },
  {
   "cell_type": "code",
   "execution_count": 1,
   "id": "0347f50b",
   "metadata": {},
   "outputs": [],
   "source": [
    "import tensorflow as tf\n",
    "from tensorflow import keras\n",
    "import numpy as np\n",
    "import pandas as pd\n",
    "import matplotlib.pyplot as plt"
   ]
  },
  {
   "cell_type": "code",
   "execution_count": 2,
   "id": "9091d687",
   "metadata": {},
   "outputs": [],
   "source": [
    "df=pd.read_csv('customer_churn.csv')"
   ]
  },
  {
   "cell_type": "code",
   "execution_count": 3,
   "id": "01b50e07",
   "metadata": {},
   "outputs": [
    {
     "data": {
      "text/html": [
       "<div>\n",
       "<style scoped>\n",
       "    .dataframe tbody tr th:only-of-type {\n",
       "        vertical-align: middle;\n",
       "    }\n",
       "\n",
       "    .dataframe tbody tr th {\n",
       "        vertical-align: top;\n",
       "    }\n",
       "\n",
       "    .dataframe thead th {\n",
       "        text-align: right;\n",
       "    }\n",
       "</style>\n",
       "<table border=\"1\" class=\"dataframe\">\n",
       "  <thead>\n",
       "    <tr style=\"text-align: right;\">\n",
       "      <th></th>\n",
       "      <th>customerID</th>\n",
       "      <th>gender</th>\n",
       "      <th>SeniorCitizen</th>\n",
       "      <th>Partner</th>\n",
       "      <th>Dependents</th>\n",
       "      <th>tenure</th>\n",
       "      <th>PhoneService</th>\n",
       "      <th>MultipleLines</th>\n",
       "      <th>InternetService</th>\n",
       "      <th>OnlineSecurity</th>\n",
       "      <th>...</th>\n",
       "      <th>DeviceProtection</th>\n",
       "      <th>TechSupport</th>\n",
       "      <th>StreamingTV</th>\n",
       "      <th>StreamingMovies</th>\n",
       "      <th>Contract</th>\n",
       "      <th>PaperlessBilling</th>\n",
       "      <th>PaymentMethod</th>\n",
       "      <th>MonthlyCharges</th>\n",
       "      <th>TotalCharges</th>\n",
       "      <th>Churn</th>\n",
       "    </tr>\n",
       "  </thead>\n",
       "  <tbody>\n",
       "    <tr>\n",
       "      <th>7018</th>\n",
       "      <td>1122-JWTJW</td>\n",
       "      <td>Male</td>\n",
       "      <td>0</td>\n",
       "      <td>Yes</td>\n",
       "      <td>Yes</td>\n",
       "      <td>1</td>\n",
       "      <td>Yes</td>\n",
       "      <td>No</td>\n",
       "      <td>Fiber optic</td>\n",
       "      <td>No</td>\n",
       "      <td>...</td>\n",
       "      <td>No</td>\n",
       "      <td>No</td>\n",
       "      <td>No</td>\n",
       "      <td>No</td>\n",
       "      <td>Month-to-month</td>\n",
       "      <td>Yes</td>\n",
       "      <td>Mailed check</td>\n",
       "      <td>70.65</td>\n",
       "      <td>70.65</td>\n",
       "      <td>Yes</td>\n",
       "    </tr>\n",
       "    <tr>\n",
       "      <th>511</th>\n",
       "      <td>8535-SFUTN</td>\n",
       "      <td>Male</td>\n",
       "      <td>0</td>\n",
       "      <td>No</td>\n",
       "      <td>No</td>\n",
       "      <td>61</td>\n",
       "      <td>Yes</td>\n",
       "      <td>Yes</td>\n",
       "      <td>Fiber optic</td>\n",
       "      <td>Yes</td>\n",
       "      <td>...</td>\n",
       "      <td>Yes</td>\n",
       "      <td>No</td>\n",
       "      <td>Yes</td>\n",
       "      <td>Yes</td>\n",
       "      <td>Month-to-month</td>\n",
       "      <td>Yes</td>\n",
       "      <td>Electronic check</td>\n",
       "      <td>106.45</td>\n",
       "      <td>6300.15</td>\n",
       "      <td>No</td>\n",
       "    </tr>\n",
       "    <tr>\n",
       "      <th>5925</th>\n",
       "      <td>1840-BIUOG</td>\n",
       "      <td>Male</td>\n",
       "      <td>0</td>\n",
       "      <td>No</td>\n",
       "      <td>No</td>\n",
       "      <td>20</td>\n",
       "      <td>Yes</td>\n",
       "      <td>Yes</td>\n",
       "      <td>DSL</td>\n",
       "      <td>No</td>\n",
       "      <td>...</td>\n",
       "      <td>No</td>\n",
       "      <td>Yes</td>\n",
       "      <td>Yes</td>\n",
       "      <td>No</td>\n",
       "      <td>One year</td>\n",
       "      <td>Yes</td>\n",
       "      <td>Electronic check</td>\n",
       "      <td>68.70</td>\n",
       "      <td>1416.2</td>\n",
       "      <td>No</td>\n",
       "    </tr>\n",
       "    <tr>\n",
       "      <th>1791</th>\n",
       "      <td>2348-KCJLT</td>\n",
       "      <td>Female</td>\n",
       "      <td>0</td>\n",
       "      <td>Yes</td>\n",
       "      <td>No</td>\n",
       "      <td>44</td>\n",
       "      <td>Yes</td>\n",
       "      <td>No</td>\n",
       "      <td>DSL</td>\n",
       "      <td>Yes</td>\n",
       "      <td>...</td>\n",
       "      <td>Yes</td>\n",
       "      <td>No</td>\n",
       "      <td>No</td>\n",
       "      <td>No</td>\n",
       "      <td>One year</td>\n",
       "      <td>Yes</td>\n",
       "      <td>Mailed check</td>\n",
       "      <td>61.50</td>\n",
       "      <td>2722.2</td>\n",
       "      <td>No</td>\n",
       "    </tr>\n",
       "    <tr>\n",
       "      <th>34</th>\n",
       "      <td>3413-BMNZE</td>\n",
       "      <td>Male</td>\n",
       "      <td>1</td>\n",
       "      <td>No</td>\n",
       "      <td>No</td>\n",
       "      <td>1</td>\n",
       "      <td>Yes</td>\n",
       "      <td>No</td>\n",
       "      <td>DSL</td>\n",
       "      <td>No</td>\n",
       "      <td>...</td>\n",
       "      <td>No</td>\n",
       "      <td>No</td>\n",
       "      <td>No</td>\n",
       "      <td>No</td>\n",
       "      <td>Month-to-month</td>\n",
       "      <td>No</td>\n",
       "      <td>Bank transfer (automatic)</td>\n",
       "      <td>45.25</td>\n",
       "      <td>45.25</td>\n",
       "      <td>No</td>\n",
       "    </tr>\n",
       "  </tbody>\n",
       "</table>\n",
       "<p>5 rows × 21 columns</p>\n",
       "</div>"
      ],
      "text/plain": [
       "      customerID  gender  SeniorCitizen Partner Dependents  tenure  \\\n",
       "7018  1122-JWTJW    Male              0     Yes        Yes       1   \n",
       "511   8535-SFUTN    Male              0      No         No      61   \n",
       "5925  1840-BIUOG    Male              0      No         No      20   \n",
       "1791  2348-KCJLT  Female              0     Yes         No      44   \n",
       "34    3413-BMNZE    Male              1      No         No       1   \n",
       "\n",
       "     PhoneService MultipleLines InternetService OnlineSecurity  ...  \\\n",
       "7018          Yes            No     Fiber optic             No  ...   \n",
       "511           Yes           Yes     Fiber optic            Yes  ...   \n",
       "5925          Yes           Yes             DSL             No  ...   \n",
       "1791          Yes            No             DSL            Yes  ...   \n",
       "34            Yes            No             DSL             No  ...   \n",
       "\n",
       "     DeviceProtection TechSupport StreamingTV StreamingMovies        Contract  \\\n",
       "7018               No          No          No              No  Month-to-month   \n",
       "511               Yes          No         Yes             Yes  Month-to-month   \n",
       "5925               No         Yes         Yes              No        One year   \n",
       "1791              Yes          No          No              No        One year   \n",
       "34                 No          No          No              No  Month-to-month   \n",
       "\n",
       "     PaperlessBilling              PaymentMethod MonthlyCharges  TotalCharges  \\\n",
       "7018              Yes               Mailed check          70.65         70.65   \n",
       "511               Yes           Electronic check         106.45       6300.15   \n",
       "5925              Yes           Electronic check          68.70        1416.2   \n",
       "1791              Yes               Mailed check          61.50        2722.2   \n",
       "34                 No  Bank transfer (automatic)          45.25         45.25   \n",
       "\n",
       "     Churn  \n",
       "7018   Yes  \n",
       "511     No  \n",
       "5925    No  \n",
       "1791    No  \n",
       "34      No  \n",
       "\n",
       "[5 rows x 21 columns]"
      ]
     },
     "execution_count": 3,
     "metadata": {},
     "output_type": "execute_result"
    }
   ],
   "source": [
    "df.sample(5)"
   ]
  },
  {
   "cell_type": "markdown",
   "id": "157af7e4",
   "metadata": {},
   "source": [
    "### Data Exploration"
   ]
  },
  {
   "cell_type": "code",
   "execution_count": 4,
   "id": "ccabf506",
   "metadata": {},
   "outputs": [
    {
     "name": "stdout",
     "output_type": "stream",
     "text": [
      "<class 'pandas.core.frame.DataFrame'>\n",
      "RangeIndex: 7043 entries, 0 to 7042\n",
      "Data columns (total 21 columns):\n",
      " #   Column            Non-Null Count  Dtype  \n",
      "---  ------            --------------  -----  \n",
      " 0   customerID        7043 non-null   object \n",
      " 1   gender            7043 non-null   object \n",
      " 2   SeniorCitizen     7043 non-null   int64  \n",
      " 3   Partner           7043 non-null   object \n",
      " 4   Dependents        7043 non-null   object \n",
      " 5   tenure            7043 non-null   int64  \n",
      " 6   PhoneService      7043 non-null   object \n",
      " 7   MultipleLines     7043 non-null   object \n",
      " 8   InternetService   7043 non-null   object \n",
      " 9   OnlineSecurity    7043 non-null   object \n",
      " 10  OnlineBackup      7043 non-null   object \n",
      " 11  DeviceProtection  7043 non-null   object \n",
      " 12  TechSupport       7043 non-null   object \n",
      " 13  StreamingTV       7043 non-null   object \n",
      " 14  StreamingMovies   7043 non-null   object \n",
      " 15  Contract          7043 non-null   object \n",
      " 16  PaperlessBilling  7043 non-null   object \n",
      " 17  PaymentMethod     7043 non-null   object \n",
      " 18  MonthlyCharges    7043 non-null   float64\n",
      " 19  TotalCharges      7043 non-null   object \n",
      " 20  Churn             7043 non-null   object \n",
      "dtypes: float64(1), int64(2), object(18)\n",
      "memory usage: 1.1+ MB\n"
     ]
    }
   ],
   "source": [
    "df.info()"
   ]
  },
  {
   "cell_type": "code",
   "execution_count": 5,
   "id": "9360dbe4",
   "metadata": {},
   "outputs": [
    {
     "data": {
      "text/plain": [
       "customerID          0\n",
       "gender              0\n",
       "SeniorCitizen       0\n",
       "Partner             0\n",
       "Dependents          0\n",
       "tenure              0\n",
       "PhoneService        0\n",
       "MultipleLines       0\n",
       "InternetService     0\n",
       "OnlineSecurity      0\n",
       "OnlineBackup        0\n",
       "DeviceProtection    0\n",
       "TechSupport         0\n",
       "StreamingTV         0\n",
       "StreamingMovies     0\n",
       "Contract            0\n",
       "PaperlessBilling    0\n",
       "PaymentMethod       0\n",
       "MonthlyCharges      0\n",
       "TotalCharges        0\n",
       "Churn               0\n",
       "dtype: int64"
      ]
     },
     "execution_count": 5,
     "metadata": {},
     "output_type": "execute_result"
    }
   ],
   "source": [
    "df.isnull().sum()"
   ]
  },
  {
   "cell_type": "code",
   "execution_count": 6,
   "id": "f8789c41",
   "metadata": {},
   "outputs": [],
   "source": [
    "df.drop('customerID',axis=1,inplace=True)"
   ]
  },
  {
   "cell_type": "code",
   "execution_count": 7,
   "id": "56d8a730",
   "metadata": {},
   "outputs": [
    {
     "name": "stdout",
     "output_type": "stream",
     "text": [
      "====================================\n",
      "gender:['Female' 'Male']\n",
      "====================================\n",
      "SeniorCitizen:[0 1]\n",
      "====================================\n",
      "Partner:['Yes' 'No']\n",
      "====================================\n",
      "Dependents:['No' 'Yes']\n",
      "====================================\n",
      "tenure:[ 1 34  2 45  8 22 10 28 62 13 16 58 49 25 69 52 71 21 12 30 47 72 17 27\n",
      "  5 46 11 70 63 43 15 60 18 66  9  3 31 50 64 56  7 42 35 48 29 65 38 68\n",
      " 32 55 37 36 41  6  4 33 67 23 57 61 14 20 53 40 59 24 44 19 54 51 26  0\n",
      " 39]\n",
      "====================================\n",
      "PhoneService:['No' 'Yes']\n",
      "====================================\n",
      "MultipleLines:['No phone service' 'No' 'Yes']\n",
      "====================================\n",
      "InternetService:['DSL' 'Fiber optic' 'No']\n",
      "====================================\n",
      "OnlineSecurity:['No' 'Yes' 'No internet service']\n",
      "====================================\n",
      "OnlineBackup:['Yes' 'No' 'No internet service']\n",
      "====================================\n",
      "DeviceProtection:['No' 'Yes' 'No internet service']\n",
      "====================================\n",
      "TechSupport:['No' 'Yes' 'No internet service']\n",
      "====================================\n",
      "StreamingTV:['No' 'Yes' 'No internet service']\n",
      "====================================\n",
      "StreamingMovies:['No' 'Yes' 'No internet service']\n",
      "====================================\n",
      "Contract:['Month-to-month' 'One year' 'Two year']\n",
      "====================================\n",
      "PaperlessBilling:['Yes' 'No']\n",
      "====================================\n",
      "PaymentMethod:['Electronic check' 'Mailed check' 'Bank transfer (automatic)'\n",
      " 'Credit card (automatic)']\n",
      "====================================\n",
      "MonthlyCharges:[29.85 56.95 53.85 ... 63.1  44.2  78.7 ]\n",
      "====================================\n",
      "TotalCharges:['29.85' '1889.5' '108.15' ... '346.45' '306.6' '6844.5']\n",
      "====================================\n",
      "Churn:['No' 'Yes']\n"
     ]
    }
   ],
   "source": [
    "categorical_col=[]\n",
    "continous_col=[]\n",
    "for col in df.columns:\n",
    "    print('====================================')\n",
    "    print(f'{col}:{df[col].unique()}')\n",
    "    if len(df[col].unique())<=10:\n",
    "        categorical_col.append(col)\n",
    "    else:\n",
    "        continous_col.append(col)"
   ]
  },
  {
   "cell_type": "code",
   "execution_count": 8,
   "id": "3fc21473",
   "metadata": {},
   "outputs": [
    {
     "data": {
      "text/plain": [
       "gender               object\n",
       "SeniorCitizen         int64\n",
       "Partner              object\n",
       "Dependents           object\n",
       "tenure                int64\n",
       "PhoneService         object\n",
       "MultipleLines        object\n",
       "InternetService      object\n",
       "OnlineSecurity       object\n",
       "OnlineBackup         object\n",
       "DeviceProtection     object\n",
       "TechSupport          object\n",
       "StreamingTV          object\n",
       "StreamingMovies      object\n",
       "Contract             object\n",
       "PaperlessBilling     object\n",
       "PaymentMethod        object\n",
       "MonthlyCharges      float64\n",
       "TotalCharges         object\n",
       "Churn                object\n",
       "dtype: object"
      ]
     },
     "execution_count": 8,
     "metadata": {},
     "output_type": "execute_result"
    }
   ],
   "source": [
    "df.dtypes"
   ]
  },
  {
   "cell_type": "code",
   "execution_count": 9,
   "id": "c69673f8",
   "metadata": {},
   "outputs": [
    {
     "data": {
      "text/plain": [
       "array(['29.85', '1889.5', '108.15', ..., '346.45', '306.6', '6844.5'],\n",
       "      dtype=object)"
      ]
     },
     "execution_count": 9,
     "metadata": {},
     "output_type": "execute_result"
    }
   ],
   "source": [
    "df['TotalCharges'].values"
   ]
  },
  {
   "cell_type": "code",
   "execution_count": 10,
   "id": "9a06601b",
   "metadata": {},
   "outputs": [],
   "source": [
    "#pd.to_numeric(df.TotalCharges)"
   ]
  },
  {
   "cell_type": "raw",
   "id": "21e16673",
   "metadata": {},
   "source": [
    "some values seems to be not numbers but blank string. Let's find out such rows"
   ]
  },
  {
   "cell_type": "code",
   "execution_count": 11,
   "id": "abdac81f",
   "metadata": {},
   "outputs": [
    {
     "data": {
      "text/html": [
       "<div>\n",
       "<style scoped>\n",
       "    .dataframe tbody tr th:only-of-type {\n",
       "        vertical-align: middle;\n",
       "    }\n",
       "\n",
       "    .dataframe tbody tr th {\n",
       "        vertical-align: top;\n",
       "    }\n",
       "\n",
       "    .dataframe thead th {\n",
       "        text-align: right;\n",
       "    }\n",
       "</style>\n",
       "<table border=\"1\" class=\"dataframe\">\n",
       "  <thead>\n",
       "    <tr style=\"text-align: right;\">\n",
       "      <th></th>\n",
       "      <th>gender</th>\n",
       "      <th>SeniorCitizen</th>\n",
       "      <th>Partner</th>\n",
       "      <th>Dependents</th>\n",
       "      <th>tenure</th>\n",
       "      <th>PhoneService</th>\n",
       "      <th>MultipleLines</th>\n",
       "      <th>InternetService</th>\n",
       "      <th>OnlineSecurity</th>\n",
       "      <th>OnlineBackup</th>\n",
       "      <th>DeviceProtection</th>\n",
       "      <th>TechSupport</th>\n",
       "      <th>StreamingTV</th>\n",
       "      <th>StreamingMovies</th>\n",
       "      <th>Contract</th>\n",
       "      <th>PaperlessBilling</th>\n",
       "      <th>PaymentMethod</th>\n",
       "      <th>MonthlyCharges</th>\n",
       "      <th>TotalCharges</th>\n",
       "      <th>Churn</th>\n",
       "    </tr>\n",
       "  </thead>\n",
       "  <tbody>\n",
       "    <tr>\n",
       "      <th>488</th>\n",
       "      <td>Female</td>\n",
       "      <td>0</td>\n",
       "      <td>Yes</td>\n",
       "      <td>Yes</td>\n",
       "      <td>0</td>\n",
       "      <td>No</td>\n",
       "      <td>No phone service</td>\n",
       "      <td>DSL</td>\n",
       "      <td>Yes</td>\n",
       "      <td>No</td>\n",
       "      <td>Yes</td>\n",
       "      <td>Yes</td>\n",
       "      <td>Yes</td>\n",
       "      <td>No</td>\n",
       "      <td>Two year</td>\n",
       "      <td>Yes</td>\n",
       "      <td>Bank transfer (automatic)</td>\n",
       "      <td>52.55</td>\n",
       "      <td></td>\n",
       "      <td>No</td>\n",
       "    </tr>\n",
       "    <tr>\n",
       "      <th>753</th>\n",
       "      <td>Male</td>\n",
       "      <td>0</td>\n",
       "      <td>No</td>\n",
       "      <td>Yes</td>\n",
       "      <td>0</td>\n",
       "      <td>Yes</td>\n",
       "      <td>No</td>\n",
       "      <td>No</td>\n",
       "      <td>No internet service</td>\n",
       "      <td>No internet service</td>\n",
       "      <td>No internet service</td>\n",
       "      <td>No internet service</td>\n",
       "      <td>No internet service</td>\n",
       "      <td>No internet service</td>\n",
       "      <td>Two year</td>\n",
       "      <td>No</td>\n",
       "      <td>Mailed check</td>\n",
       "      <td>20.25</td>\n",
       "      <td></td>\n",
       "      <td>No</td>\n",
       "    </tr>\n",
       "    <tr>\n",
       "      <th>936</th>\n",
       "      <td>Female</td>\n",
       "      <td>0</td>\n",
       "      <td>Yes</td>\n",
       "      <td>Yes</td>\n",
       "      <td>0</td>\n",
       "      <td>Yes</td>\n",
       "      <td>No</td>\n",
       "      <td>DSL</td>\n",
       "      <td>Yes</td>\n",
       "      <td>Yes</td>\n",
       "      <td>Yes</td>\n",
       "      <td>No</td>\n",
       "      <td>Yes</td>\n",
       "      <td>Yes</td>\n",
       "      <td>Two year</td>\n",
       "      <td>No</td>\n",
       "      <td>Mailed check</td>\n",
       "      <td>80.85</td>\n",
       "      <td></td>\n",
       "      <td>No</td>\n",
       "    </tr>\n",
       "    <tr>\n",
       "      <th>1082</th>\n",
       "      <td>Male</td>\n",
       "      <td>0</td>\n",
       "      <td>Yes</td>\n",
       "      <td>Yes</td>\n",
       "      <td>0</td>\n",
       "      <td>Yes</td>\n",
       "      <td>Yes</td>\n",
       "      <td>No</td>\n",
       "      <td>No internet service</td>\n",
       "      <td>No internet service</td>\n",
       "      <td>No internet service</td>\n",
       "      <td>No internet service</td>\n",
       "      <td>No internet service</td>\n",
       "      <td>No internet service</td>\n",
       "      <td>Two year</td>\n",
       "      <td>No</td>\n",
       "      <td>Mailed check</td>\n",
       "      <td>25.75</td>\n",
       "      <td></td>\n",
       "      <td>No</td>\n",
       "    </tr>\n",
       "    <tr>\n",
       "      <th>1340</th>\n",
       "      <td>Female</td>\n",
       "      <td>0</td>\n",
       "      <td>Yes</td>\n",
       "      <td>Yes</td>\n",
       "      <td>0</td>\n",
       "      <td>No</td>\n",
       "      <td>No phone service</td>\n",
       "      <td>DSL</td>\n",
       "      <td>Yes</td>\n",
       "      <td>Yes</td>\n",
       "      <td>Yes</td>\n",
       "      <td>Yes</td>\n",
       "      <td>Yes</td>\n",
       "      <td>No</td>\n",
       "      <td>Two year</td>\n",
       "      <td>No</td>\n",
       "      <td>Credit card (automatic)</td>\n",
       "      <td>56.05</td>\n",
       "      <td></td>\n",
       "      <td>No</td>\n",
       "    </tr>\n",
       "    <tr>\n",
       "      <th>3331</th>\n",
       "      <td>Male</td>\n",
       "      <td>0</td>\n",
       "      <td>Yes</td>\n",
       "      <td>Yes</td>\n",
       "      <td>0</td>\n",
       "      <td>Yes</td>\n",
       "      <td>No</td>\n",
       "      <td>No</td>\n",
       "      <td>No internet service</td>\n",
       "      <td>No internet service</td>\n",
       "      <td>No internet service</td>\n",
       "      <td>No internet service</td>\n",
       "      <td>No internet service</td>\n",
       "      <td>No internet service</td>\n",
       "      <td>Two year</td>\n",
       "      <td>No</td>\n",
       "      <td>Mailed check</td>\n",
       "      <td>19.85</td>\n",
       "      <td></td>\n",
       "      <td>No</td>\n",
       "    </tr>\n",
       "    <tr>\n",
       "      <th>3826</th>\n",
       "      <td>Male</td>\n",
       "      <td>0</td>\n",
       "      <td>Yes</td>\n",
       "      <td>Yes</td>\n",
       "      <td>0</td>\n",
       "      <td>Yes</td>\n",
       "      <td>Yes</td>\n",
       "      <td>No</td>\n",
       "      <td>No internet service</td>\n",
       "      <td>No internet service</td>\n",
       "      <td>No internet service</td>\n",
       "      <td>No internet service</td>\n",
       "      <td>No internet service</td>\n",
       "      <td>No internet service</td>\n",
       "      <td>Two year</td>\n",
       "      <td>No</td>\n",
       "      <td>Mailed check</td>\n",
       "      <td>25.35</td>\n",
       "      <td></td>\n",
       "      <td>No</td>\n",
       "    </tr>\n",
       "    <tr>\n",
       "      <th>4380</th>\n",
       "      <td>Female</td>\n",
       "      <td>0</td>\n",
       "      <td>Yes</td>\n",
       "      <td>Yes</td>\n",
       "      <td>0</td>\n",
       "      <td>Yes</td>\n",
       "      <td>No</td>\n",
       "      <td>No</td>\n",
       "      <td>No internet service</td>\n",
       "      <td>No internet service</td>\n",
       "      <td>No internet service</td>\n",
       "      <td>No internet service</td>\n",
       "      <td>No internet service</td>\n",
       "      <td>No internet service</td>\n",
       "      <td>Two year</td>\n",
       "      <td>No</td>\n",
       "      <td>Mailed check</td>\n",
       "      <td>20.00</td>\n",
       "      <td></td>\n",
       "      <td>No</td>\n",
       "    </tr>\n",
       "    <tr>\n",
       "      <th>5218</th>\n",
       "      <td>Male</td>\n",
       "      <td>0</td>\n",
       "      <td>Yes</td>\n",
       "      <td>Yes</td>\n",
       "      <td>0</td>\n",
       "      <td>Yes</td>\n",
       "      <td>No</td>\n",
       "      <td>No</td>\n",
       "      <td>No internet service</td>\n",
       "      <td>No internet service</td>\n",
       "      <td>No internet service</td>\n",
       "      <td>No internet service</td>\n",
       "      <td>No internet service</td>\n",
       "      <td>No internet service</td>\n",
       "      <td>One year</td>\n",
       "      <td>Yes</td>\n",
       "      <td>Mailed check</td>\n",
       "      <td>19.70</td>\n",
       "      <td></td>\n",
       "      <td>No</td>\n",
       "    </tr>\n",
       "    <tr>\n",
       "      <th>6670</th>\n",
       "      <td>Female</td>\n",
       "      <td>0</td>\n",
       "      <td>Yes</td>\n",
       "      <td>Yes</td>\n",
       "      <td>0</td>\n",
       "      <td>Yes</td>\n",
       "      <td>Yes</td>\n",
       "      <td>DSL</td>\n",
       "      <td>No</td>\n",
       "      <td>Yes</td>\n",
       "      <td>Yes</td>\n",
       "      <td>Yes</td>\n",
       "      <td>Yes</td>\n",
       "      <td>No</td>\n",
       "      <td>Two year</td>\n",
       "      <td>No</td>\n",
       "      <td>Mailed check</td>\n",
       "      <td>73.35</td>\n",
       "      <td></td>\n",
       "      <td>No</td>\n",
       "    </tr>\n",
       "    <tr>\n",
       "      <th>6754</th>\n",
       "      <td>Male</td>\n",
       "      <td>0</td>\n",
       "      <td>No</td>\n",
       "      <td>Yes</td>\n",
       "      <td>0</td>\n",
       "      <td>Yes</td>\n",
       "      <td>Yes</td>\n",
       "      <td>DSL</td>\n",
       "      <td>Yes</td>\n",
       "      <td>Yes</td>\n",
       "      <td>No</td>\n",
       "      <td>Yes</td>\n",
       "      <td>No</td>\n",
       "      <td>No</td>\n",
       "      <td>Two year</td>\n",
       "      <td>Yes</td>\n",
       "      <td>Bank transfer (automatic)</td>\n",
       "      <td>61.90</td>\n",
       "      <td></td>\n",
       "      <td>No</td>\n",
       "    </tr>\n",
       "  </tbody>\n",
       "</table>\n",
       "</div>"
      ],
      "text/plain": [
       "      gender  SeniorCitizen Partner Dependents  tenure PhoneService  \\\n",
       "488   Female              0     Yes        Yes       0           No   \n",
       "753     Male              0      No        Yes       0          Yes   \n",
       "936   Female              0     Yes        Yes       0          Yes   \n",
       "1082    Male              0     Yes        Yes       0          Yes   \n",
       "1340  Female              0     Yes        Yes       0           No   \n",
       "3331    Male              0     Yes        Yes       0          Yes   \n",
       "3826    Male              0     Yes        Yes       0          Yes   \n",
       "4380  Female              0     Yes        Yes       0          Yes   \n",
       "5218    Male              0     Yes        Yes       0          Yes   \n",
       "6670  Female              0     Yes        Yes       0          Yes   \n",
       "6754    Male              0      No        Yes       0          Yes   \n",
       "\n",
       "         MultipleLines InternetService       OnlineSecurity  \\\n",
       "488   No phone service             DSL                  Yes   \n",
       "753                 No              No  No internet service   \n",
       "936                 No             DSL                  Yes   \n",
       "1082               Yes              No  No internet service   \n",
       "1340  No phone service             DSL                  Yes   \n",
       "3331                No              No  No internet service   \n",
       "3826               Yes              No  No internet service   \n",
       "4380                No              No  No internet service   \n",
       "5218                No              No  No internet service   \n",
       "6670               Yes             DSL                   No   \n",
       "6754               Yes             DSL                  Yes   \n",
       "\n",
       "             OnlineBackup     DeviceProtection          TechSupport  \\\n",
       "488                    No                  Yes                  Yes   \n",
       "753   No internet service  No internet service  No internet service   \n",
       "936                   Yes                  Yes                   No   \n",
       "1082  No internet service  No internet service  No internet service   \n",
       "1340                  Yes                  Yes                  Yes   \n",
       "3331  No internet service  No internet service  No internet service   \n",
       "3826  No internet service  No internet service  No internet service   \n",
       "4380  No internet service  No internet service  No internet service   \n",
       "5218  No internet service  No internet service  No internet service   \n",
       "6670                  Yes                  Yes                  Yes   \n",
       "6754                  Yes                   No                  Yes   \n",
       "\n",
       "              StreamingTV      StreamingMovies  Contract PaperlessBilling  \\\n",
       "488                   Yes                   No  Two year              Yes   \n",
       "753   No internet service  No internet service  Two year               No   \n",
       "936                   Yes                  Yes  Two year               No   \n",
       "1082  No internet service  No internet service  Two year               No   \n",
       "1340                  Yes                   No  Two year               No   \n",
       "3331  No internet service  No internet service  Two year               No   \n",
       "3826  No internet service  No internet service  Two year               No   \n",
       "4380  No internet service  No internet service  Two year               No   \n",
       "5218  No internet service  No internet service  One year              Yes   \n",
       "6670                  Yes                   No  Two year               No   \n",
       "6754                   No                   No  Two year              Yes   \n",
       "\n",
       "                  PaymentMethod  MonthlyCharges TotalCharges Churn  \n",
       "488   Bank transfer (automatic)           52.55                 No  \n",
       "753                Mailed check           20.25                 No  \n",
       "936                Mailed check           80.85                 No  \n",
       "1082               Mailed check           25.75                 No  \n",
       "1340    Credit card (automatic)           56.05                 No  \n",
       "3331               Mailed check           19.85                 No  \n",
       "3826               Mailed check           25.35                 No  \n",
       "4380               Mailed check           20.00                 No  \n",
       "5218               Mailed check           19.70                 No  \n",
       "6670               Mailed check           73.35                 No  \n",
       "6754  Bank transfer (automatic)           61.90                 No  "
      ]
     },
     "execution_count": 11,
     "metadata": {},
     "output_type": "execute_result"
    }
   ],
   "source": [
    "df[pd.to_numeric(df.TotalCharges,errors='coerce').isnull()]"
   ]
  },
  {
   "cell_type": "code",
   "execution_count": 12,
   "id": "c1e50984",
   "metadata": {},
   "outputs": [
    {
     "data": {
      "text/plain": [
       "(7043, 20)"
      ]
     },
     "execution_count": 12,
     "metadata": {},
     "output_type": "execute_result"
    }
   ],
   "source": [
    "df.shape"
   ]
  },
  {
   "cell_type": "code",
   "execution_count": 13,
   "id": "c9119677",
   "metadata": {},
   "outputs": [
    {
     "data": {
      "text/plain": [
       "' '"
      ]
     },
     "execution_count": 13,
     "metadata": {},
     "output_type": "execute_result"
    }
   ],
   "source": [
    "df.iloc[488].TotalCharges"
   ]
  },
  {
   "cell_type": "code",
   "execution_count": 14,
   "id": "51a69039",
   "metadata": {},
   "outputs": [
    {
     "data": {
      "text/plain": [
       "(7032, 20)"
      ]
     },
     "execution_count": 14,
     "metadata": {},
     "output_type": "execute_result"
    }
   ],
   "source": [
    "df[df.TotalCharges!=' '].shape # checking howmany records are present with empty strings"
   ]
  },
  {
   "cell_type": "markdown",
   "id": "9b4f2335",
   "metadata": {},
   "source": [
    "### Remove rows with space in TotalCharges"
   ]
  },
  {
   "cell_type": "code",
   "execution_count": 15,
   "id": "bc89aeeb",
   "metadata": {},
   "outputs": [],
   "source": [
    "df1=df[df.TotalCharges!=' ']"
   ]
  },
  {
   "cell_type": "code",
   "execution_count": 16,
   "id": "faa0a5b4",
   "metadata": {},
   "outputs": [
    {
     "data": {
      "text/plain": [
       "(7032, 20)"
      ]
     },
     "execution_count": 16,
     "metadata": {},
     "output_type": "execute_result"
    }
   ],
   "source": [
    "df1.shape"
   ]
  },
  {
   "cell_type": "code",
   "execution_count": 17,
   "id": "97389898",
   "metadata": {},
   "outputs": [
    {
     "data": {
      "text/plain": [
       "gender               object\n",
       "SeniorCitizen         int64\n",
       "Partner              object\n",
       "Dependents           object\n",
       "tenure                int64\n",
       "PhoneService         object\n",
       "MultipleLines        object\n",
       "InternetService      object\n",
       "OnlineSecurity       object\n",
       "OnlineBackup         object\n",
       "DeviceProtection     object\n",
       "TechSupport          object\n",
       "StreamingTV          object\n",
       "StreamingMovies      object\n",
       "Contract             object\n",
       "PaperlessBilling     object\n",
       "PaymentMethod        object\n",
       "MonthlyCharges      float64\n",
       "TotalCharges         object\n",
       "Churn                object\n",
       "dtype: object"
      ]
     },
     "execution_count": 17,
     "metadata": {},
     "output_type": "execute_result"
    }
   ],
   "source": [
    "df1.dtypes"
   ]
  },
  {
   "cell_type": "code",
   "execution_count": 18,
   "id": "121a099e",
   "metadata": {},
   "outputs": [
    {
     "name": "stderr",
     "output_type": "stream",
     "text": [
      "C:\\Users\\vamsh\\AppData\\Local\\Temp\\ipykernel_11932\\1462773625.py:1: SettingWithCopyWarning: \n",
      "A value is trying to be set on a copy of a slice from a DataFrame.\n",
      "Try using .loc[row_indexer,col_indexer] = value instead\n",
      "\n",
      "See the caveats in the documentation: https://pandas.pydata.org/pandas-docs/stable/user_guide/indexing.html#returning-a-view-versus-a-copy\n",
      "  df1['TotalCharges'] = pd.to_numeric(df1['TotalCharges'])\n"
     ]
    }
   ],
   "source": [
    "df1['TotalCharges'] = pd.to_numeric(df1['TotalCharges'])"
   ]
  },
  {
   "cell_type": "code",
   "execution_count": 19,
   "id": "964315a5",
   "metadata": {},
   "outputs": [
    {
     "data": {
      "text/plain": [
       "dtype('float64')"
      ]
     },
     "execution_count": 19,
     "metadata": {},
     "output_type": "execute_result"
    }
   ],
   "source": [
    "df1['TotalCharges'].dtype"
   ]
  },
  {
   "cell_type": "code",
   "execution_count": 20,
   "id": "bdc34dc5",
   "metadata": {},
   "outputs": [
    {
     "data": {
      "text/plain": [
       "22"
      ]
     },
     "execution_count": 20,
     "metadata": {},
     "output_type": "execute_result"
    }
   ],
   "source": [
    "df1.duplicated().sum()"
   ]
  },
  {
   "cell_type": "code",
   "execution_count": 21,
   "id": "fb84b6e4",
   "metadata": {},
   "outputs": [
    {
     "name": "stderr",
     "output_type": "stream",
     "text": [
      "C:\\Users\\vamsh\\AppData\\Local\\Temp\\ipykernel_11932\\4156330626.py:1: SettingWithCopyWarning: \n",
      "A value is trying to be set on a copy of a slice from a DataFrame\n",
      "\n",
      "See the caveats in the documentation: https://pandas.pydata.org/pandas-docs/stable/user_guide/indexing.html#returning-a-view-versus-a-copy\n",
      "  df1.drop_duplicates(inplace=True)\n"
     ]
    }
   ],
   "source": [
    "df1.drop_duplicates(inplace=True)"
   ]
  },
  {
   "cell_type": "code",
   "execution_count": 22,
   "id": "2309bd68",
   "metadata": {},
   "outputs": [
    {
     "data": {
      "text/plain": [
       "0"
      ]
     },
     "execution_count": 22,
     "metadata": {},
     "output_type": "execute_result"
    }
   ],
   "source": [
    "df1.duplicated().sum()"
   ]
  },
  {
   "cell_type": "markdown",
   "id": "b4491be1",
   "metadata": {},
   "source": [
    "### Data Visualization"
   ]
  },
  {
   "cell_type": "code",
   "execution_count": 23,
   "id": "e2d02743",
   "metadata": {},
   "outputs": [
    {
     "data": {
      "text/plain": [
       "<matplotlib.legend.Legend at 0x28ff2da81c0>"
      ]
     },
     "execution_count": 23,
     "metadata": {},
     "output_type": "execute_result"
    },
    {
     "data": {
      "image/png": "[encoded data removed]",
      "text/plain": [
       "<Figure size 640x480 with 1 Axes>"
      ]
     },
     "metadata": {},
     "output_type": "display_data"
    }
   ],
   "source": [
    "tenure_churn_no=df1[df1['Churn']=='No'].tenure\n",
    "tenure_churn_yes=df1[df1['Churn']=='Yes'].tenure\n",
    "\n",
    "plt.xlabel('tenure')\n",
    "plt.ylabel('no of customers')\n",
    "plt.title(\"Customer Churn Prediction Visualiztion\")\n",
    "\n",
    "plt.hist([tenure_churn_yes, tenure_churn_no], rwidth=0.95, color=['red','green'],label=['Churn=Yes','Churn=No'])\n",
    "plt.legend()"
   ]
  },
  {
   "cell_type": "code",
   "execution_count": 24,
   "id": "7ba406ba",
   "metadata": {},
   "outputs": [
    {
     "data": {
      "text/plain": [
       "<matplotlib.legend.Legend at 0x28ff37de0b0>"
      ]
     },
     "execution_count": 24,
     "metadata": {},
     "output_type": "execute_result"
    },
    {
     "data": {
      "image/png": "[encoded data removed]",
      "text/plain": [
       "<Figure size 640x480 with 1 Axes>"
      ]
     },
     "metadata": {},
     "output_type": "display_data"
    }
   ],
   "source": [
    "mc_churn_no = df1[df1.Churn=='No'].MonthlyCharges      \n",
    "mc_churn_yes = df1[df1.Churn=='Yes'].MonthlyCharges      \n",
    "\n",
    "plt.xlabel(\"Monthly Charges\")\n",
    "plt.ylabel(\"Number Of Customers\")\n",
    "plt.title(\"Customer Churn Prediction Visualiztion\")\n",
    "\n",
    "\n",
    "plt.hist([mc_churn_yes, mc_churn_no], rwidth=0.95, color=['red','green'],label=['Churn=Yes','Churn=No'])\n",
    "plt.legend()"
   ]
  },
  {
   "cell_type": "code",
   "execution_count": 25,
   "id": "cd61c921",
   "metadata": {},
   "outputs": [
    {
     "data": {
      "image/png": "[encoded data removed]",
      "text/plain": [
       "<Figure size 640x480 with 1 Axes>"
      ]
     },
     "metadata": {},
     "output_type": "display_data"
    }
   ],
   "source": [
    "import matplotlib.pyplot as plt\n",
    "\n",
    "# Assuming 'df1' is your DataFrame\n",
    "churn_counts = df1['Churn'].value_counts()\n",
    "\n",
    "# Create a pie chart\n",
    "plt.pie(churn_counts, labels=churn_counts.index, autopct='%1.1f%%')\n",
    "plt.title('Churn Distribution')\n",
    "\n",
    "plt.show()\n"
   ]
  },
  {
   "cell_type": "markdown",
   "id": "a84fdac0",
   "metadata": {},
   "source": [
    "Here, we can clearly observe imbalance in the data where maximum number customers are not churn. This need to corrected using sampling techniques before feeding into predictive models."
   ]
  },
  {
   "cell_type": "raw",
   "id": "d4b5179b",
   "metadata": {},
   "source": [
    "# Observations:\n",
    "The dataset has a total of 15 features out of which 2 are numerical and the rest 13 are categorical.\n",
    "Out of 2 numerical features, 2 are continuous (Totalcharges, MonthlyCharges) \n",
    "\n",
    "13 categorical features all are Nominal variables.One Feature Totalcharges have empty string records.\n",
    "\n",
    "The target variable is binary and is highly imbalanced having 73.51% data belonging to Class No (Applications Approved) and 26.49% data belonging to Class Yes "
   ]
  },
  {
   "cell_type": "code",
   "execution_count": 26,
   "id": "2fdca7a1",
   "metadata": {},
   "outputs": [
    {
     "name": "stderr",
     "output_type": "stream",
     "text": [
      "C:\\Users\\vamsh\\AppData\\Local\\Temp\\ipykernel_11932\\777806346.py:3: FutureWarning: The default value of numeric_only in DataFrame.corr is deprecated. In a future version, it will default to False. Select only valid columns or specify the value of numeric_only to silence this warning.\n",
      "  sns.heatmap(df1.corr(method = 'spearman'), annot = True, cmap = 'coolwarm')\n"
     ]
    },
    {
     "data": {
      "text/plain": [
       "<Axes: >"
      ]
     },
     "execution_count": 26,
     "metadata": {},
     "output_type": "execute_result"
    },
    {
     "data": {
      "image/png": "[encoded data removed]",
      "text/plain": [
       "<Figure size 640x480 with 2 Axes>"
      ]
     },
     "metadata": {},
     "output_type": "display_data"
    }
   ],
   "source": [
    "# Correlation matrix for Spearman's Rank Correlation\n",
    "import seaborn as sns\n",
    "sns.heatmap(df1.corr(method = 'spearman'), annot = True, cmap = 'coolwarm')"
   ]
  },
  {
   "cell_type": "code",
   "execution_count": 27,
   "id": "b60e83c8",
   "metadata": {},
   "outputs": [
    {
     "data": {
      "text/html": [
       "<div>\n",
       "<style scoped>\n",
       "    .dataframe tbody tr th:only-of-type {\n",
       "        vertical-align: middle;\n",
       "    }\n",
       "\n",
       "    .dataframe tbody tr th {\n",
       "        vertical-align: top;\n",
       "    }\n",
       "\n",
       "    .dataframe thead th {\n",
       "        text-align: right;\n",
       "    }\n",
       "</style>\n",
       "<table border=\"1\" class=\"dataframe\">\n",
       "  <thead>\n",
       "    <tr style=\"text-align: right;\">\n",
       "      <th></th>\n",
       "      <th>gender</th>\n",
       "      <th>SeniorCitizen</th>\n",
       "      <th>Partner</th>\n",
       "      <th>Dependents</th>\n",
       "      <th>tenure</th>\n",
       "      <th>PhoneService</th>\n",
       "      <th>MultipleLines</th>\n",
       "      <th>InternetService</th>\n",
       "      <th>OnlineSecurity</th>\n",
       "      <th>OnlineBackup</th>\n",
       "      <th>DeviceProtection</th>\n",
       "      <th>TechSupport</th>\n",
       "      <th>StreamingTV</th>\n",
       "      <th>StreamingMovies</th>\n",
       "      <th>Contract</th>\n",
       "      <th>PaperlessBilling</th>\n",
       "      <th>PaymentMethod</th>\n",
       "      <th>MonthlyCharges</th>\n",
       "      <th>TotalCharges</th>\n",
       "      <th>Churn</th>\n",
       "    </tr>\n",
       "  </thead>\n",
       "  <tbody>\n",
       "    <tr>\n",
       "      <th>0</th>\n",
       "      <td>Female</td>\n",
       "      <td>0</td>\n",
       "      <td>Yes</td>\n",
       "      <td>No</td>\n",
       "      <td>1</td>\n",
       "      <td>No</td>\n",
       "      <td>No phone service</td>\n",
       "      <td>DSL</td>\n",
       "      <td>No</td>\n",
       "      <td>Yes</td>\n",
       "      <td>No</td>\n",
       "      <td>No</td>\n",
       "      <td>No</td>\n",
       "      <td>No</td>\n",
       "      <td>Month-to-month</td>\n",
       "      <td>Yes</td>\n",
       "      <td>Electronic check</td>\n",
       "      <td>29.85</td>\n",
       "      <td>29.85</td>\n",
       "      <td>No</td>\n",
       "    </tr>\n",
       "    <tr>\n",
       "      <th>1</th>\n",
       "      <td>Male</td>\n",
       "      <td>0</td>\n",
       "      <td>No</td>\n",
       "      <td>No</td>\n",
       "      <td>34</td>\n",
       "      <td>Yes</td>\n",
       "      <td>No</td>\n",
       "      <td>DSL</td>\n",
       "      <td>Yes</td>\n",
       "      <td>No</td>\n",
       "      <td>Yes</td>\n",
       "      <td>No</td>\n",
       "      <td>No</td>\n",
       "      <td>No</td>\n",
       "      <td>One year</td>\n",
       "      <td>No</td>\n",
       "      <td>Mailed check</td>\n",
       "      <td>56.95</td>\n",
       "      <td>1889.50</td>\n",
       "      <td>No</td>\n",
       "    </tr>\n",
       "    <tr>\n",
       "      <th>2</th>\n",
       "      <td>Male</td>\n",
       "      <td>0</td>\n",
       "      <td>No</td>\n",
       "      <td>No</td>\n",
       "      <td>2</td>\n",
       "      <td>Yes</td>\n",
       "      <td>No</td>\n",
       "      <td>DSL</td>\n",
       "      <td>Yes</td>\n",
       "      <td>Yes</td>\n",
       "      <td>No</td>\n",
       "      <td>No</td>\n",
       "      <td>No</td>\n",
       "      <td>No</td>\n",
       "      <td>Month-to-month</td>\n",
       "      <td>Yes</td>\n",
       "      <td>Mailed check</td>\n",
       "      <td>53.85</td>\n",
       "      <td>108.15</td>\n",
       "      <td>Yes</td>\n",
       "    </tr>\n",
       "    <tr>\n",
       "      <th>3</th>\n",
       "      <td>Male</td>\n",
       "      <td>0</td>\n",
       "      <td>No</td>\n",
       "      <td>No</td>\n",
       "      <td>45</td>\n",
       "      <td>No</td>\n",
       "      <td>No phone service</td>\n",
       "      <td>DSL</td>\n",
       "      <td>Yes</td>\n",
       "      <td>No</td>\n",
       "      <td>Yes</td>\n",
       "      <td>Yes</td>\n",
       "      <td>No</td>\n",
       "      <td>No</td>\n",
       "      <td>One year</td>\n",
       "      <td>No</td>\n",
       "      <td>Bank transfer (automatic)</td>\n",
       "      <td>42.30</td>\n",
       "      <td>1840.75</td>\n",
       "      <td>No</td>\n",
       "    </tr>\n",
       "    <tr>\n",
       "      <th>4</th>\n",
       "      <td>Female</td>\n",
       "      <td>0</td>\n",
       "      <td>No</td>\n",
       "      <td>No</td>\n",
       "      <td>2</td>\n",
       "      <td>Yes</td>\n",
       "      <td>No</td>\n",
       "      <td>Fiber optic</td>\n",
       "      <td>No</td>\n",
       "      <td>No</td>\n",
       "      <td>No</td>\n",
       "      <td>No</td>\n",
       "      <td>No</td>\n",
       "      <td>No</td>\n",
       "      <td>Month-to-month</td>\n",
       "      <td>Yes</td>\n",
       "      <td>Electronic check</td>\n",
       "      <td>70.70</td>\n",
       "      <td>151.65</td>\n",
       "      <td>Yes</td>\n",
       "    </tr>\n",
       "  </tbody>\n",
       "</table>\n",
       "</div>"
      ],
      "text/plain": [
       "   gender  SeniorCitizen Partner Dependents  tenure PhoneService  \\\n",
       "0  Female              0     Yes         No       1           No   \n",
       "1    Male              0      No         No      34          Yes   \n",
       "2    Male              0      No         No       2          Yes   \n",
       "3    Male              0      No         No      45           No   \n",
       "4  Female              0      No         No       2          Yes   \n",
       "\n",
       "      MultipleLines InternetService OnlineSecurity OnlineBackup  \\\n",
       "0  No phone service             DSL             No          Yes   \n",
       "1                No             DSL            Yes           No   \n",
       "2                No             DSL            Yes          Yes   \n",
       "3  No phone service             DSL            Yes           No   \n",
       "4                No     Fiber optic             No           No   \n",
       "\n",
       "  DeviceProtection TechSupport StreamingTV StreamingMovies        Contract  \\\n",
       "0               No          No          No              No  Month-to-month   \n",
       "1              Yes          No          No              No        One year   \n",
       "2               No          No          No              No  Month-to-month   \n",
       "3              Yes         Yes          No              No        One year   \n",
       "4               No          No          No              No  Month-to-month   \n",
       "\n",
       "  PaperlessBilling              PaymentMethod  MonthlyCharges  TotalCharges  \\\n",
       "0              Yes           Electronic check           29.85         29.85   \n",
       "1               No               Mailed check           56.95       1889.50   \n",
       "2              Yes               Mailed check           53.85        108.15   \n",
       "3               No  Bank transfer (automatic)           42.30       1840.75   \n",
       "4              Yes           Electronic check           70.70        151.65   \n",
       "\n",
       "  Churn  \n",
       "0    No  \n",
       "1    No  \n",
       "2   Yes  \n",
       "3    No  \n",
       "4   Yes  "
      ]
     },
     "execution_count": 27,
     "metadata": {},
     "output_type": "execute_result"
    }
   ],
   "source": [
    "df1.head()"
   ]
  },
  {
   "cell_type": "code",
   "execution_count": 28,
   "id": "bdced1ea",
   "metadata": {},
   "outputs": [
    {
     "name": "stdout",
     "output_type": "stream",
     "text": [
      "\"gender\": ['Female' 'Male']\n",
      "\"SeniorCitizen\": [0 1]\n",
      "\"Partner\": ['Yes' 'No']\n",
      "\"Dependents\": ['No' 'Yes']\n",
      "\"PhoneService\": ['No' 'Yes']\n",
      "\"MultipleLines\": ['No phone service' 'No' 'Yes']\n",
      "\"InternetService\": ['DSL' 'Fiber optic' 'No']\n",
      "\"OnlineSecurity\": ['No' 'Yes' 'No internet service']\n",
      "\"OnlineBackup\": ['Yes' 'No' 'No internet service']\n",
      "\"DeviceProtection\": ['No' 'Yes' 'No internet service']\n",
      "\"TechSupport\": ['No' 'Yes' 'No internet service']\n",
      "\"StreamingTV\": ['No' 'Yes' 'No internet service']\n",
      "\"StreamingMovies\": ['No' 'Yes' 'No internet service']\n",
      "\"Contract\": ['Month-to-month' 'One year' 'Two year']\n",
      "\"PaperlessBilling\": ['Yes' 'No']\n",
      "\"PaymentMethod\": ['Electronic check' 'Mailed check' 'Bank transfer (automatic)'\n",
      " 'Credit card (automatic)']\n",
      "\"Churn\": ['No' 'Yes']\n"
     ]
    }
   ],
   "source": [
    "for column_name in categorical_col:\n",
    "    unique_values = df1[column_name].unique()\n",
    "    print(f'\"{column_name}\": {unique_values}')\n"
   ]
  },
  {
   "cell_type": "code",
   "execution_count": 29,
   "id": "ca8e071c",
   "metadata": {},
   "outputs": [
    {
     "name": "stderr",
     "output_type": "stream",
     "text": [
      "C:\\Users\\vamsh\\AppData\\Local\\Temp\\ipykernel_11932\\2045096646.py:1: SettingWithCopyWarning: \n",
      "A value is trying to be set on a copy of a slice from a DataFrame\n",
      "\n",
      "See the caveats in the documentation: https://pandas.pydata.org/pandas-docs/stable/user_guide/indexing.html#returning-a-view-versus-a-copy\n",
      "  df1.replace('No internet service','No',inplace=True)\n",
      "C:\\Users\\vamsh\\AppData\\Local\\Temp\\ipykernel_11932\\2045096646.py:2: SettingWithCopyWarning: \n",
      "A value is trying to be set on a copy of a slice from a DataFrame\n",
      "\n",
      "See the caveats in the documentation: https://pandas.pydata.org/pandas-docs/stable/user_guide/indexing.html#returning-a-view-versus-a-copy\n",
      "  df1.replace('No phone service','No',inplace=True)\n"
     ]
    }
   ],
   "source": [
    "df1.replace('No internet service','No',inplace=True)\n",
    "df1.replace('No phone service','No',inplace=True)"
   ]
  },
  {
   "cell_type": "code",
   "execution_count": 30,
   "id": "5b22bd7a",
   "metadata": {},
   "outputs": [
    {
     "name": "stdout",
     "output_type": "stream",
     "text": [
      "\"gender\": ['Female' 'Male']\n",
      "\"SeniorCitizen\": [0 1]\n",
      "\"Partner\": ['Yes' 'No']\n",
      "\"Dependents\": ['No' 'Yes']\n",
      "\"PhoneService\": ['No' 'Yes']\n",
      "\"MultipleLines\": ['No' 'Yes']\n",
      "\"InternetService\": ['DSL' 'Fiber optic' 'No']\n",
      "\"OnlineSecurity\": ['No' 'Yes']\n",
      "\"OnlineBackup\": ['Yes' 'No']\n",
      "\"DeviceProtection\": ['No' 'Yes']\n",
      "\"TechSupport\": ['No' 'Yes']\n",
      "\"StreamingTV\": ['No' 'Yes']\n",
      "\"StreamingMovies\": ['No' 'Yes']\n",
      "\"Contract\": ['Month-to-month' 'One year' 'Two year']\n",
      "\"PaperlessBilling\": ['Yes' 'No']\n",
      "\"PaymentMethod\": ['Electronic check' 'Mailed check' 'Bank transfer (automatic)'\n",
      " 'Credit card (automatic)']\n",
      "\"Churn\": ['No' 'Yes']\n"
     ]
    }
   ],
   "source": [
    "for column_name in categorical_col:\n",
    "    unique_values = df1[column_name].unique()\n",
    "    print(f'\"{column_name}\": {unique_values}')\n"
   ]
  },
  {
   "cell_type": "code",
   "execution_count": 31,
   "id": "4d69bf2e",
   "metadata": {},
   "outputs": [],
   "source": [
    "yes_no_col=[col for col in df.columns if df[col].eq('Yes').any() or df[col].eq('No').any()]"
   ]
  },
  {
   "cell_type": "code",
   "execution_count": 32,
   "id": "8b7f7da0",
   "metadata": {},
   "outputs": [
    {
     "data": {
      "text/plain": [
       "['Partner',\n",
       " 'Dependents',\n",
       " 'PhoneService',\n",
       " 'MultipleLines',\n",
       " 'InternetService',\n",
       " 'OnlineSecurity',\n",
       " 'OnlineBackup',\n",
       " 'DeviceProtection',\n",
       " 'TechSupport',\n",
       " 'StreamingTV',\n",
       " 'StreamingMovies',\n",
       " 'PaperlessBilling',\n",
       " 'Churn']"
      ]
     },
     "execution_count": 32,
     "metadata": {},
     "output_type": "execute_result"
    }
   ],
   "source": [
    "yes_no_col"
   ]
  },
  {
   "cell_type": "markdown",
   "id": "6e481bef",
   "metadata": {},
   "source": [
    "### Preprocessing"
   ]
  },
  {
   "cell_type": "code",
   "execution_count": 33,
   "id": "1f368b59",
   "metadata": {},
   "outputs": [
    {
     "name": "stderr",
     "output_type": "stream",
     "text": [
      "C:\\Users\\vamsh\\AppData\\Local\\Temp\\ipykernel_11932\\1353649755.py:2: SettingWithCopyWarning: \n",
      "A value is trying to be set on a copy of a slice from a DataFrame\n",
      "\n",
      "See the caveats in the documentation: https://pandas.pydata.org/pandas-docs/stable/user_guide/indexing.html#returning-a-view-versus-a-copy\n",
      "  df1[col].replace({'Yes': 1,'No': 0},inplace=True)\n"
     ]
    }
   ],
   "source": [
    "for col in yes_no_col:\n",
    "    df1[col].replace({'Yes': 1,'No': 0},inplace=True)"
   ]
  },
  {
   "cell_type": "code",
   "execution_count": 34,
   "id": "c13ee23e",
   "metadata": {},
   "outputs": [
    {
     "name": "stdout",
     "output_type": "stream",
     "text": [
      "gender: ['Female' 'Male']\n",
      "SeniorCitizen: [0 1]\n",
      "Partner: [1 0]\n",
      "Dependents: [0 1]\n",
      "tenure: [ 1 34  2 45  8 22 10 28 62 13 16 58 49 25 69 52 71 21 12 30 47 72 17 27\n",
      "  5 46 11 70 63 43 15 60 18 66  9  3 31 50 64 56  7 42 35 48 29 65 38 68\n",
      " 32 55 37 36 41  6  4 33 67 23 57 61 14 20 53 40 59 24 44 19 54 51 26 39]\n",
      "PhoneService: [0 1]\n",
      "MultipleLines: [0 1]\n",
      "InternetService: ['DSL' 'Fiber optic' 0]\n",
      "OnlineSecurity: [0 1]\n",
      "OnlineBackup: [1 0]\n",
      "DeviceProtection: [0 1]\n",
      "TechSupport: [0 1]\n",
      "StreamingTV: [0 1]\n",
      "StreamingMovies: [0 1]\n",
      "Contract: ['Month-to-month' 'One year' 'Two year']\n",
      "PaperlessBilling: [1 0]\n",
      "PaymentMethod: ['Electronic check' 'Mailed check' 'Bank transfer (automatic)'\n",
      " 'Credit card (automatic)']\n",
      "MonthlyCharges: [29.85 56.95 53.85 ... 63.1  44.2  78.7 ]\n",
      "TotalCharges: [  29.85 1889.5   108.15 ...  346.45  306.6  6844.5 ]\n",
      "Churn: [0 1]\n"
     ]
    }
   ],
   "source": [
    "for col in df1:\n",
    "    print(f'{col}: {df1[col].unique()}') "
   ]
  },
  {
   "cell_type": "code",
   "execution_count": 35,
   "id": "06f35fe6",
   "metadata": {},
   "outputs": [
    {
     "name": "stderr",
     "output_type": "stream",
     "text": [
      "C:\\Users\\vamsh\\AppData\\Local\\Temp\\ipykernel_11932\\698335744.py:1: SettingWithCopyWarning: \n",
      "A value is trying to be set on a copy of a slice from a DataFrame\n",
      "\n",
      "See the caveats in the documentation: https://pandas.pydata.org/pandas-docs/stable/user_guide/indexing.html#returning-a-view-versus-a-copy\n",
      "  df1['gender'].replace({'Female':1,'Male':0},inplace=True)\n"
     ]
    }
   ],
   "source": [
    "df1['gender'].replace({'Female':1,'Male':0},inplace=True)"
   ]
  },
  {
   "cell_type": "code",
   "execution_count": 36,
   "id": "c7195bd1",
   "metadata": {},
   "outputs": [
    {
     "data": {
      "text/plain": [
       "array([1, 0], dtype=int64)"
      ]
     },
     "execution_count": 36,
     "metadata": {},
     "output_type": "execute_result"
    }
   ],
   "source": [
    "df1['gender'].unique()"
   ]
  },
  {
   "cell_type": "code",
   "execution_count": 37,
   "id": "f6a60018",
   "metadata": {},
   "outputs": [
    {
     "data": {
      "text/plain": [
       "Index(['gender', 'SeniorCitizen', 'Partner', 'Dependents', 'tenure',\n",
       "       'PhoneService', 'MultipleLines', 'OnlineSecurity', 'OnlineBackup',\n",
       "       'DeviceProtection', 'TechSupport', 'StreamingTV', 'StreamingMovies',\n",
       "       'PaperlessBilling', 'MonthlyCharges', 'TotalCharges', 'Churn',\n",
       "       'InternetService_0', 'InternetService_DSL',\n",
       "       'InternetService_Fiber optic', 'Contract_Month-to-month',\n",
       "       'Contract_One year', 'Contract_Two year',\n",
       "       'PaymentMethod_Bank transfer (automatic)',\n",
       "       'PaymentMethod_Credit card (automatic)',\n",
       "       'PaymentMethod_Electronic check', 'PaymentMethod_Mailed check'],\n",
       "      dtype='object')"
      ]
     },
     "execution_count": 37,
     "metadata": {},
     "output_type": "execute_result"
    }
   ],
   "source": [
    "df2 = pd.get_dummies(data=df1, columns=['InternetService','Contract','PaymentMethod'])\n",
    "df2.columns"
   ]
  },
  {
   "cell_type": "code",
   "execution_count": 38,
   "id": "6dc9e397",
   "metadata": {},
   "outputs": [
    {
     "data": {
      "text/html": [
       "<div>\n",
       "<style scoped>\n",
       "    .dataframe tbody tr th:only-of-type {\n",
       "        vertical-align: middle;\n",
       "    }\n",
       "\n",
       "    .dataframe tbody tr th {\n",
       "        vertical-align: top;\n",
       "    }\n",
       "\n",
       "    .dataframe thead th {\n",
       "        text-align: right;\n",
       "    }\n",
       "</style>\n",
       "<table border=\"1\" class=\"dataframe\">\n",
       "  <thead>\n",
       "    <tr style=\"text-align: right;\">\n",
       "      <th></th>\n",
       "      <th>gender</th>\n",
       "      <th>SeniorCitizen</th>\n",
       "      <th>Partner</th>\n",
       "      <th>Dependents</th>\n",
       "      <th>tenure</th>\n",
       "      <th>PhoneService</th>\n",
       "      <th>MultipleLines</th>\n",
       "      <th>OnlineSecurity</th>\n",
       "      <th>OnlineBackup</th>\n",
       "      <th>DeviceProtection</th>\n",
       "      <th>...</th>\n",
       "      <th>InternetService_0</th>\n",
       "      <th>InternetService_DSL</th>\n",
       "      <th>InternetService_Fiber optic</th>\n",
       "      <th>Contract_Month-to-month</th>\n",
       "      <th>Contract_One year</th>\n",
       "      <th>Contract_Two year</th>\n",
       "      <th>PaymentMethod_Bank transfer (automatic)</th>\n",
       "      <th>PaymentMethod_Credit card (automatic)</th>\n",
       "      <th>PaymentMethod_Electronic check</th>\n",
       "      <th>PaymentMethod_Mailed check</th>\n",
       "    </tr>\n",
       "  </thead>\n",
       "  <tbody>\n",
       "    <tr>\n",
       "      <th>0</th>\n",
       "      <td>1</td>\n",
       "      <td>0</td>\n",
       "      <td>1</td>\n",
       "      <td>0</td>\n",
       "      <td>1</td>\n",
       "      <td>0</td>\n",
       "      <td>0</td>\n",
       "      <td>0</td>\n",
       "      <td>1</td>\n",
       "      <td>0</td>\n",
       "      <td>...</td>\n",
       "      <td>0</td>\n",
       "      <td>1</td>\n",
       "      <td>0</td>\n",
       "      <td>1</td>\n",
       "      <td>0</td>\n",
       "      <td>0</td>\n",
       "      <td>0</td>\n",
       "      <td>0</td>\n",
       "      <td>1</td>\n",
       "      <td>0</td>\n",
       "    </tr>\n",
       "    <tr>\n",
       "      <th>1</th>\n",
       "      <td>0</td>\n",
       "      <td>0</td>\n",
       "      <td>0</td>\n",
       "      <td>0</td>\n",
       "      <td>34</td>\n",
       "      <td>1</td>\n",
       "      <td>0</td>\n",
       "      <td>1</td>\n",
       "      <td>0</td>\n",
       "      <td>1</td>\n",
       "      <td>...</td>\n",
       "      <td>0</td>\n",
       "      <td>1</td>\n",
       "      <td>0</td>\n",
       "      <td>0</td>\n",
       "      <td>1</td>\n",
       "      <td>0</td>\n",
       "      <td>0</td>\n",
       "      <td>0</td>\n",
       "      <td>0</td>\n",
       "      <td>1</td>\n",
       "    </tr>\n",
       "    <tr>\n",
       "      <th>2</th>\n",
       "      <td>0</td>\n",
       "      <td>0</td>\n",
       "      <td>0</td>\n",
       "      <td>0</td>\n",
       "      <td>2</td>\n",
       "      <td>1</td>\n",
       "      <td>0</td>\n",
       "      <td>1</td>\n",
       "      <td>1</td>\n",
       "      <td>0</td>\n",
       "      <td>...</td>\n",
       "      <td>0</td>\n",
       "      <td>1</td>\n",
       "      <td>0</td>\n",
       "      <td>1</td>\n",
       "      <td>0</td>\n",
       "      <td>0</td>\n",
       "      <td>0</td>\n",
       "      <td>0</td>\n",
       "      <td>0</td>\n",
       "      <td>1</td>\n",
       "    </tr>\n",
       "    <tr>\n",
       "      <th>3</th>\n",
       "      <td>0</td>\n",
       "      <td>0</td>\n",
       "      <td>0</td>\n",
       "      <td>0</td>\n",
       "      <td>45</td>\n",
       "      <td>0</td>\n",
       "      <td>0</td>\n",
       "      <td>1</td>\n",
       "      <td>0</td>\n",
       "      <td>1</td>\n",
       "      <td>...</td>\n",
       "      <td>0</td>\n",
       "      <td>1</td>\n",
       "      <td>0</td>\n",
       "      <td>0</td>\n",
       "      <td>1</td>\n",
       "      <td>0</td>\n",
       "      <td>1</td>\n",
       "      <td>0</td>\n",
       "      <td>0</td>\n",
       "      <td>0</td>\n",
       "    </tr>\n",
       "    <tr>\n",
       "      <th>4</th>\n",
       "      <td>1</td>\n",
       "      <td>0</td>\n",
       "      <td>0</td>\n",
       "      <td>0</td>\n",
       "      <td>2</td>\n",
       "      <td>1</td>\n",
       "      <td>0</td>\n",
       "      <td>0</td>\n",
       "      <td>0</td>\n",
       "      <td>0</td>\n",
       "      <td>...</td>\n",
       "      <td>0</td>\n",
       "      <td>0</td>\n",
       "      <td>1</td>\n",
       "      <td>1</td>\n",
       "      <td>0</td>\n",
       "      <td>0</td>\n",
       "      <td>0</td>\n",
       "      <td>0</td>\n",
       "      <td>1</td>\n",
       "      <td>0</td>\n",
       "    </tr>\n",
       "  </tbody>\n",
       "</table>\n",
       "<p>5 rows × 27 columns</p>\n",
       "</div>"
      ],
      "text/plain": [
       "   gender  SeniorCitizen  Partner  Dependents  tenure  PhoneService  \\\n",
       "0       1              0        1           0       1             0   \n",
       "1       0              0        0           0      34             1   \n",
       "2       0              0        0           0       2             1   \n",
       "3       0              0        0           0      45             0   \n",
       "4       1              0        0           0       2             1   \n",
       "\n",
       "   MultipleLines  OnlineSecurity  OnlineBackup  DeviceProtection  ...  \\\n",
       "0              0               0             1                 0  ...   \n",
       "1              0               1             0                 1  ...   \n",
       "2              0               1             1                 0  ...   \n",
       "3              0               1             0                 1  ...   \n",
       "4              0               0             0                 0  ...   \n",
       "\n",
       "   InternetService_0  InternetService_DSL  InternetService_Fiber optic  \\\n",
       "0                  0                    1                            0   \n",
       "1                  0                    1                            0   \n",
       "2                  0                    1                            0   \n",
       "3                  0                    1                            0   \n",
       "4                  0                    0                            1   \n",
       "\n",
       "   Contract_Month-to-month  Contract_One year  Contract_Two year  \\\n",
       "0                        1                  0                  0   \n",
       "1                        0                  1                  0   \n",
       "2                        1                  0                  0   \n",
       "3                        0                  1                  0   \n",
       "4                        1                  0                  0   \n",
       "\n",
       "   PaymentMethod_Bank transfer (automatic)  \\\n",
       "0                                        0   \n",
       "1                                        0   \n",
       "2                                        0   \n",
       "3                                        1   \n",
       "4                                        0   \n",
       "\n",
       "   PaymentMethod_Credit card (automatic)  PaymentMethod_Electronic check  \\\n",
       "0                                      0                               1   \n",
       "1                                      0                               0   \n",
       "2                                      0                               0   \n",
       "3                                      0                               0   \n",
       "4                                      0                               1   \n",
       "\n",
       "   PaymentMethod_Mailed check  \n",
       "0                           0  \n",
       "1                           1  \n",
       "2                           1  \n",
       "3                           0  \n",
       "4                           0  \n",
       "\n",
       "[5 rows x 27 columns]"
      ]
     },
     "execution_count": 38,
     "metadata": {},
     "output_type": "execute_result"
    }
   ],
   "source": [
    "df2.head()"
   ]
  },
  {
   "cell_type": "code",
   "execution_count": 39,
   "id": "dce26000",
   "metadata": {},
   "outputs": [
    {
     "data": {
      "text/plain": [
       "['tenure', 'MonthlyCharges', 'TotalCharges']"
      ]
     },
     "execution_count": 39,
     "metadata": {},
     "output_type": "execute_result"
    }
   ],
   "source": [
    "continous_col"
   ]
  },
  {
   "cell_type": "markdown",
   "id": "73f130c8",
   "metadata": {},
   "source": [
    "### Scaling features"
   ]
  },
  {
   "cell_type": "code",
   "execution_count": 40,
   "id": "9375a4b5",
   "metadata": {},
   "outputs": [],
   "source": [
    "from sklearn.preprocessing import MinMaxScaler\n",
    "scaler = MinMaxScaler()\n",
    "df2[continous_col] = scaler.fit_transform(df2[continous_col])"
   ]
  },
  {
   "cell_type": "code",
   "execution_count": 41,
   "id": "2f1e5fc6",
   "metadata": {},
   "outputs": [
    {
     "name": "stdout",
     "output_type": "stream",
     "text": [
      "gender: [1 0]\n",
      "SeniorCitizen: [0 1]\n",
      "Partner: [1 0]\n",
      "Dependents: [0 1]\n",
      "tenure: [0.         0.46478873 0.01408451 0.61971831 0.09859155 0.29577465\n",
      " 0.12676056 0.38028169 0.85915493 0.16901408 0.21126761 0.8028169\n",
      " 0.67605634 0.33802817 0.95774648 0.71830986 0.98591549 0.28169014\n",
      " 0.15492958 0.4084507  0.64788732 1.         0.22535211 0.36619718\n",
      " 0.05633803 0.63380282 0.14084507 0.97183099 0.87323944 0.5915493\n",
      " 0.1971831  0.83098592 0.23943662 0.91549296 0.11267606 0.02816901\n",
      " 0.42253521 0.69014085 0.88732394 0.77464789 0.08450704 0.57746479\n",
      " 0.47887324 0.66197183 0.3943662  0.90140845 0.52112676 0.94366197\n",
      " 0.43661972 0.76056338 0.50704225 0.49295775 0.56338028 0.07042254\n",
      " 0.04225352 0.45070423 0.92957746 0.30985915 0.78873239 0.84507042\n",
      " 0.18309859 0.26760563 0.73239437 0.54929577 0.81690141 0.32394366\n",
      " 0.6056338  0.25352113 0.74647887 0.70422535 0.35211268 0.53521127]\n",
      "PhoneService: [0 1]\n",
      "MultipleLines: [0 1]\n",
      "OnlineSecurity: [0 1]\n",
      "OnlineBackup: [1 0]\n",
      "DeviceProtection: [0 1]\n",
      "TechSupport: [0 1]\n",
      "StreamingTV: [0 1]\n",
      "StreamingMovies: [0 1]\n",
      "PaperlessBilling: [1 0]\n",
      "MonthlyCharges: [0.11542289 0.38507463 0.35422886 ... 0.44626866 0.25820896 0.60149254]\n",
      "TotalCharges: [0.0012751  0.21586661 0.01031041 ... 0.03780868 0.03321025 0.78764136]\n",
      "Churn: [0 1]\n",
      "InternetService_0: [0 1]\n",
      "InternetService_DSL: [1 0]\n",
      "InternetService_Fiber optic: [0 1]\n",
      "Contract_Month-to-month: [1 0]\n",
      "Contract_One year: [0 1]\n",
      "Contract_Two year: [0 1]\n",
      "PaymentMethod_Bank transfer (automatic): [0 1]\n",
      "PaymentMethod_Credit card (automatic): [0 1]\n",
      "PaymentMethod_Electronic check: [1 0]\n",
      "PaymentMethod_Mailed check: [0 1]\n"
     ]
    }
   ],
   "source": [
    "for col in df2:\n",
    "    print(f'{col}: {df2[col].unique()}')"
   ]
  },
  {
   "cell_type": "code",
   "execution_count": 42,
   "id": "2e84ac69",
   "metadata": {},
   "outputs": [],
   "source": [
    "X = df2.drop('Churn',axis='columns')\n",
    "y = df2['Churn']\n"
   ]
  },
  {
   "cell_type": "markdown",
   "id": "f8f173a8",
   "metadata": {},
   "source": [
    "### Train and test"
   ]
  },
  {
   "cell_type": "code",
   "execution_count": 43,
   "id": "030e2169",
   "metadata": {},
   "outputs": [],
   "source": [
    "from sklearn.model_selection import train_test_split\n",
    "X_train, X_test, y_train, y_test = train_test_split(X,y,test_size=0.2,random_state=5)"
   ]
  },
  {
   "cell_type": "code",
   "execution_count": 44,
   "id": "2ed77c1a",
   "metadata": {},
   "outputs": [
    {
     "data": {
      "text/plain": [
       "(5608, 26)"
      ]
     },
     "execution_count": 44,
     "metadata": {},
     "output_type": "execute_result"
    }
   ],
   "source": [
    "X_train.shape"
   ]
  },
  {
   "cell_type": "code",
   "execution_count": 45,
   "id": "2b4b3e3c",
   "metadata": {},
   "outputs": [
    {
     "data": {
      "text/plain": [
       "(1402, 26)"
      ]
     },
     "execution_count": 45,
     "metadata": {},
     "output_type": "execute_result"
    }
   ],
   "source": [
    "X_test.shape"
   ]
  },
  {
   "cell_type": "code",
   "execution_count": 46,
   "id": "f62fd3ea",
   "metadata": {},
   "outputs": [
    {
     "data": {
      "text/plain": [
       "26"
      ]
     },
     "execution_count": 46,
     "metadata": {},
     "output_type": "execute_result"
    }
   ],
   "source": [
    "len(X_train.columns)"
   ]
  },
  {
   "cell_type": "code",
   "execution_count": 47,
   "id": "08cde3e4",
   "metadata": {},
   "outputs": [
    {
     "name": "stdout",
     "output_type": "stream",
     "text": [
      "Epoch 1/150\n",
      "176/176 [==============================] - 1s 2ms/step - loss: 0.4909 - accuracy: 0.7630\n",
      "Epoch 2/150\n",
      "176/176 [==============================] - 0s 2ms/step - loss: 0.4256 - accuracy: 0.7932\n",
      "Epoch 3/150\n",
      "176/176 [==============================] - 0s 2ms/step - loss: 0.4184 - accuracy: 0.7980\n",
      "Epoch 4/150\n",
      "176/176 [==============================] - 0s 3ms/step - loss: 0.4138 - accuracy: 0.8058\n",
      "Epoch 5/150\n",
      "176/176 [==============================] - 0s 2ms/step - loss: 0.4110 - accuracy: 0.8046\n",
      "Epoch 6/150\n",
      "176/176 [==============================] - 0s 2ms/step - loss: 0.4090 - accuracy: 0.8047\n",
      "Epoch 7/150\n",
      "176/176 [==============================] - 0s 3ms/step - loss: 0.4068 - accuracy: 0.8080\n",
      "Epoch 8/150\n",
      "176/176 [==============================] - 0s 2ms/step - loss: 0.4053 - accuracy: 0.8090\n",
      "Epoch 9/150\n",
      "176/176 [==============================] - 0s 2ms/step - loss: 0.4041 - accuracy: 0.8096\n",
      "Epoch 10/150\n",
      "176/176 [==============================] - 0s 2ms/step - loss: 0.4026 - accuracy: 0.8126\n",
      "Epoch 11/150\n",
      "176/176 [==============================] - 0s 2ms/step - loss: 0.4020 - accuracy: 0.8108\n",
      "Epoch 12/150\n",
      "176/176 [==============================] - 0s 2ms/step - loss: 0.3999 - accuracy: 0.8128\n",
      "Epoch 13/150\n",
      "176/176 [==============================] - 0s 2ms/step - loss: 0.3991 - accuracy: 0.8156\n",
      "Epoch 14/150\n",
      "176/176 [==============================] - 0s 2ms/step - loss: 0.3973 - accuracy: 0.8137\n",
      "Epoch 15/150\n",
      "176/176 [==============================] - 0s 3ms/step - loss: 0.3963 - accuracy: 0.8131\n",
      "Epoch 16/150\n",
      "176/176 [==============================] - 0s 2ms/step - loss: 0.3962 - accuracy: 0.8158\n",
      "Epoch 17/150\n",
      "176/176 [==============================] - 0s 2ms/step - loss: 0.3941 - accuracy: 0.8124\n",
      "Epoch 18/150\n",
      "176/176 [==============================] - 0s 2ms/step - loss: 0.3934 - accuracy: 0.8140\n",
      "Epoch 19/150\n",
      "176/176 [==============================] - 0s 2ms/step - loss: 0.3922 - accuracy: 0.8160\n",
      "Epoch 20/150\n",
      "176/176 [==============================] - 0s 2ms/step - loss: 0.3924 - accuracy: 0.8195\n",
      "Epoch 21/150\n",
      "176/176 [==============================] - 0s 2ms/step - loss: 0.3908 - accuracy: 0.8179\n",
      "Epoch 22/150\n",
      "176/176 [==============================] - 0s 2ms/step - loss: 0.3898 - accuracy: 0.8181\n",
      "Epoch 23/150\n",
      "176/176 [==============================] - 0s 2ms/step - loss: 0.3893 - accuracy: 0.8204\n",
      "Epoch 24/150\n",
      "176/176 [==============================] - 0s 3ms/step - loss: 0.3875 - accuracy: 0.8181\n",
      "Epoch 25/150\n",
      "176/176 [==============================] - 0s 2ms/step - loss: 0.3870 - accuracy: 0.8199\n",
      "Epoch 26/150\n",
      "176/176 [==============================] - 0s 2ms/step - loss: 0.3869 - accuracy: 0.8215\n",
      "Epoch 27/150\n",
      "176/176 [==============================] - 0s 2ms/step - loss: 0.3845 - accuracy: 0.8183\n",
      "Epoch 28/150\n",
      "176/176 [==============================] - 0s 2ms/step - loss: 0.3842 - accuracy: 0.8215\n",
      "Epoch 29/150\n",
      "176/176 [==============================] - 0s 3ms/step - loss: 0.3841 - accuracy: 0.8195\n",
      "Epoch 30/150\n",
      "176/176 [==============================] - 0s 2ms/step - loss: 0.3831 - accuracy: 0.8215\n",
      "Epoch 31/150\n",
      "176/176 [==============================] - 0s 2ms/step - loss: 0.3827 - accuracy: 0.8229\n",
      "Epoch 32/150\n",
      "176/176 [==============================] - 0s 2ms/step - loss: 0.3809 - accuracy: 0.8215\n",
      "Epoch 33/150\n",
      "176/176 [==============================] - 0s 2ms/step - loss: 0.3807 - accuracy: 0.8204\n",
      "Epoch 34/150\n",
      "176/176 [==============================] - 0s 3ms/step - loss: 0.3804 - accuracy: 0.8233\n",
      "Epoch 35/150\n",
      "176/176 [==============================] - 0s 2ms/step - loss: 0.3792 - accuracy: 0.8238\n",
      "Epoch 36/150\n",
      "176/176 [==============================] - 0s 2ms/step - loss: 0.3787 - accuracy: 0.8251\n",
      "Epoch 37/150\n",
      "176/176 [==============================] - 0s 2ms/step - loss: 0.3778 - accuracy: 0.8242\n",
      "Epoch 38/150\n",
      "176/176 [==============================] - 0s 2ms/step - loss: 0.3776 - accuracy: 0.8245\n",
      "Epoch 39/150\n",
      "176/176 [==============================] - 0s 2ms/step - loss: 0.3765 - accuracy: 0.8244\n",
      "Epoch 40/150\n",
      "176/176 [==============================] - 0s 2ms/step - loss: 0.3763 - accuracy: 0.8228\n",
      "Epoch 41/150\n",
      "176/176 [==============================] - 0s 3ms/step - loss: 0.3758 - accuracy: 0.8252\n",
      "Epoch 42/150\n",
      "176/176 [==============================] - 0s 2ms/step - loss: 0.3742 - accuracy: 0.8256\n",
      "Epoch 43/150\n",
      "176/176 [==============================] - 0s 2ms/step - loss: 0.3747 - accuracy: 0.8242\n",
      "Epoch 44/150\n",
      "176/176 [==============================] - 0s 2ms/step - loss: 0.3736 - accuracy: 0.8260\n",
      "Epoch 45/150\n",
      "176/176 [==============================] - 0s 2ms/step - loss: 0.3738 - accuracy: 0.8276\n",
      "Epoch 46/150\n",
      "176/176 [==============================] - 0s 2ms/step - loss: 0.3711 - accuracy: 0.8256\n",
      "Epoch 47/150\n",
      "176/176 [==============================] - 0s 2ms/step - loss: 0.3711 - accuracy: 0.8263\n",
      "Epoch 48/150\n",
      "176/176 [==============================] - 0s 2ms/step - loss: 0.3715 - accuracy: 0.8276\n",
      "Epoch 49/150\n",
      "176/176 [==============================] - 0s 2ms/step - loss: 0.3709 - accuracy: 0.8270\n",
      "Epoch 50/150\n",
      "176/176 [==============================] - 0s 2ms/step - loss: 0.3696 - accuracy: 0.8295\n",
      "Epoch 51/150\n",
      "176/176 [==============================] - 0s 2ms/step - loss: 0.3708 - accuracy: 0.8263\n",
      "Epoch 52/150\n",
      "176/176 [==============================] - 0s 2ms/step - loss: 0.3687 - accuracy: 0.8311\n",
      "Epoch 53/150\n",
      "176/176 [==============================] - 0s 2ms/step - loss: 0.3699 - accuracy: 0.8270\n",
      "Epoch 54/150\n",
      "176/176 [==============================] - 0s 2ms/step - loss: 0.3680 - accuracy: 0.8285\n",
      "Epoch 55/150\n",
      "176/176 [==============================] - 0s 2ms/step - loss: 0.3669 - accuracy: 0.8315\n",
      "Epoch 56/150\n",
      "176/176 [==============================] - 0s 2ms/step - loss: 0.3666 - accuracy: 0.8295\n",
      "Epoch 57/150\n",
      "176/176 [==============================] - 0s 2ms/step - loss: 0.3674 - accuracy: 0.8311\n",
      "Epoch 58/150\n",
      "176/176 [==============================] - 0s 2ms/step - loss: 0.3670 - accuracy: 0.8279\n",
      "Epoch 59/150\n",
      "176/176 [==============================] - 0s 2ms/step - loss: 0.3660 - accuracy: 0.8304\n",
      "Epoch 60/150\n",
      "176/176 [==============================] - 0s 2ms/step - loss: 0.3651 - accuracy: 0.8324\n",
      "Epoch 61/150\n",
      "176/176 [==============================] - 0s 2ms/step - loss: 0.3641 - accuracy: 0.8297\n",
      "Epoch 62/150\n",
      "176/176 [==============================] - 0s 2ms/step - loss: 0.3655 - accuracy: 0.8327\n",
      "Epoch 63/150\n",
      "176/176 [==============================] - 0s 2ms/step - loss: 0.3642 - accuracy: 0.8283\n",
      "Epoch 64/150\n",
      "176/176 [==============================] - 0s 2ms/step - loss: 0.3629 - accuracy: 0.8311\n",
      "Epoch 65/150\n",
      "176/176 [==============================] - 0s 2ms/step - loss: 0.3635 - accuracy: 0.8315\n",
      "Epoch 66/150\n",
      "176/176 [==============================] - 0s 2ms/step - loss: 0.3620 - accuracy: 0.8308\n",
      "Epoch 67/150\n",
      "176/176 [==============================] - 0s 3ms/step - loss: 0.3623 - accuracy: 0.8279\n",
      "Epoch 68/150\n",
      "176/176 [==============================] - 0s 2ms/step - loss: 0.3605 - accuracy: 0.8345\n",
      "Epoch 69/150\n",
      "176/176 [==============================] - 0s 2ms/step - loss: 0.3611 - accuracy: 0.8311\n",
      "Epoch 70/150\n",
      "176/176 [==============================] - 0s 2ms/step - loss: 0.3616 - accuracy: 0.8294\n",
      "Epoch 71/150\n",
      "176/176 [==============================] - 0s 2ms/step - loss: 0.3594 - accuracy: 0.8349\n",
      "Epoch 72/150\n",
      "176/176 [==============================] - 0s 2ms/step - loss: 0.3605 - accuracy: 0.8326\n",
      "Epoch 73/150\n",
      "176/176 [==============================] - 0s 3ms/step - loss: 0.3588 - accuracy: 0.8311\n",
      "Epoch 74/150\n",
      "176/176 [==============================] - 0s 3ms/step - loss: 0.3594 - accuracy: 0.8349\n",
      "Epoch 75/150\n",
      "176/176 [==============================] - 1s 3ms/step - loss: 0.3595 - accuracy: 0.8358\n",
      "Epoch 76/150\n",
      "176/176 [==============================] - 0s 2ms/step - loss: 0.3589 - accuracy: 0.8336\n",
      "Epoch 77/150\n",
      "176/176 [==============================] - 0s 3ms/step - loss: 0.3579 - accuracy: 0.8345\n",
      "Epoch 78/150\n",
      "176/176 [==============================] - 0s 2ms/step - loss: 0.3576 - accuracy: 0.8361\n",
      "Epoch 79/150\n",
      "176/176 [==============================] - 1s 3ms/step - loss: 0.3588 - accuracy: 0.8333\n",
      "Epoch 80/150\n",
      "176/176 [==============================] - 0s 2ms/step - loss: 0.3563 - accuracy: 0.8352\n",
      "Epoch 81/150\n"
     ]
    },
    {
     "name": "stdout",
     "output_type": "stream",
     "text": [
      "176/176 [==============================] - 1s 3ms/step - loss: 0.3554 - accuracy: 0.8324\n",
      "Epoch 82/150\n",
      "176/176 [==============================] - 0s 2ms/step - loss: 0.3565 - accuracy: 0.8352\n",
      "Epoch 83/150\n",
      "176/176 [==============================] - 0s 3ms/step - loss: 0.3542 - accuracy: 0.8331\n",
      "Epoch 84/150\n",
      "176/176 [==============================] - 1s 3ms/step - loss: 0.3552 - accuracy: 0.8345\n",
      "Epoch 85/150\n",
      "176/176 [==============================] - 0s 3ms/step - loss: 0.3544 - accuracy: 0.8345\n",
      "Epoch 86/150\n",
      "176/176 [==============================] - 0s 2ms/step - loss: 0.3529 - accuracy: 0.8343\n",
      "Epoch 87/150\n",
      "176/176 [==============================] - 1s 3ms/step - loss: 0.3541 - accuracy: 0.8333\n",
      "Epoch 88/150\n",
      "176/176 [==============================] - 0s 2ms/step - loss: 0.3524 - accuracy: 0.8370\n",
      "Epoch 89/150\n",
      "176/176 [==============================] - 0s 2ms/step - loss: 0.3536 - accuracy: 0.8358\n",
      "Epoch 90/150\n",
      "176/176 [==============================] - 0s 2ms/step - loss: 0.3538 - accuracy: 0.8365\n",
      "Epoch 91/150\n",
      "176/176 [==============================] - 0s 2ms/step - loss: 0.3533 - accuracy: 0.8347\n",
      "Epoch 92/150\n",
      "176/176 [==============================] - 1s 3ms/step - loss: 0.3524 - accuracy: 0.8338\n",
      "Epoch 93/150\n",
      "176/176 [==============================] - 0s 3ms/step - loss: 0.3495 - accuracy: 0.8397\n",
      "Epoch 94/150\n",
      "176/176 [==============================] - 0s 2ms/step - loss: 0.3513 - accuracy: 0.8367\n",
      "Epoch 95/150\n",
      "176/176 [==============================] - 0s 2ms/step - loss: 0.3513 - accuracy: 0.8359\n",
      "Epoch 96/150\n",
      "176/176 [==============================] - 1s 3ms/step - loss: 0.3506 - accuracy: 0.8352\n",
      "Epoch 97/150\n",
      "176/176 [==============================] - 1s 3ms/step - loss: 0.3494 - accuracy: 0.8356\n",
      "Epoch 98/150\n",
      "176/176 [==============================] - 0s 3ms/step - loss: 0.3498 - accuracy: 0.8372\n",
      "Epoch 99/150\n",
      "176/176 [==============================] - 0s 2ms/step - loss: 0.3495 - accuracy: 0.8384\n",
      "Epoch 100/150\n",
      "176/176 [==============================] - 0s 2ms/step - loss: 0.3484 - accuracy: 0.8351\n",
      "Epoch 101/150\n",
      "176/176 [==============================] - 0s 3ms/step - loss: 0.3482 - accuracy: 0.8386\n",
      "Epoch 102/150\n",
      "176/176 [==============================] - 0s 3ms/step - loss: 0.3480 - accuracy: 0.8393\n",
      "Epoch 103/150\n",
      "176/176 [==============================] - 0s 2ms/step - loss: 0.3467 - accuracy: 0.8370\n",
      "Epoch 104/150\n",
      "176/176 [==============================] - 0s 2ms/step - loss: 0.3469 - accuracy: 0.8390\n",
      "Epoch 105/150\n",
      "176/176 [==============================] - 0s 3ms/step - loss: 0.3464 - accuracy: 0.8415\n",
      "Epoch 106/150\n",
      "176/176 [==============================] - 1s 3ms/step - loss: 0.3458 - accuracy: 0.8383\n",
      "Epoch 107/150\n",
      "176/176 [==============================] - 1s 3ms/step - loss: 0.3464 - accuracy: 0.8384\n",
      "Epoch 108/150\n",
      "176/176 [==============================] - 0s 3ms/step - loss: 0.3445 - accuracy: 0.8424\n",
      "Epoch 109/150\n",
      "176/176 [==============================] - 0s 3ms/step - loss: 0.3455 - accuracy: 0.8358\n",
      "Epoch 110/150\n",
      "176/176 [==============================] - 0s 2ms/step - loss: 0.3446 - accuracy: 0.8397\n",
      "Epoch 111/150\n",
      "176/176 [==============================] - 0s 3ms/step - loss: 0.3443 - accuracy: 0.8354\n",
      "Epoch 112/150\n",
      "176/176 [==============================] - 0s 2ms/step - loss: 0.3431 - accuracy: 0.8399\n",
      "Epoch 113/150\n",
      "176/176 [==============================] - 0s 3ms/step - loss: 0.3445 - accuracy: 0.8377\n",
      "Epoch 114/150\n",
      "176/176 [==============================] - 0s 2ms/step - loss: 0.3423 - accuracy: 0.8397\n",
      "Epoch 115/150\n",
      "176/176 [==============================] - 0s 2ms/step - loss: 0.3424 - accuracy: 0.8372\n",
      "Epoch 116/150\n",
      "176/176 [==============================] - 0s 2ms/step - loss: 0.3427 - accuracy: 0.8399\n",
      "Epoch 117/150\n",
      "176/176 [==============================] - 0s 2ms/step - loss: 0.3426 - accuracy: 0.8384\n",
      "Epoch 118/150\n",
      "176/176 [==============================] - 0s 2ms/step - loss: 0.3406 - accuracy: 0.8390\n",
      "Epoch 119/150\n",
      "176/176 [==============================] - 0s 2ms/step - loss: 0.3404 - accuracy: 0.8399\n",
      "Epoch 120/150\n",
      "176/176 [==============================] - 0s 2ms/step - loss: 0.3404 - accuracy: 0.8422\n",
      "Epoch 121/150\n",
      "176/176 [==============================] - 0s 2ms/step - loss: 0.3400 - accuracy: 0.8406\n",
      "Epoch 122/150\n",
      "176/176 [==============================] - 0s 2ms/step - loss: 0.3405 - accuracy: 0.8420\n",
      "Epoch 123/150\n",
      "176/176 [==============================] - 0s 2ms/step - loss: 0.3400 - accuracy: 0.8413\n",
      "Epoch 124/150\n",
      "176/176 [==============================] - 0s 2ms/step - loss: 0.3396 - accuracy: 0.8404\n",
      "Epoch 125/150\n",
      "176/176 [==============================] - 0s 2ms/step - loss: 0.3387 - accuracy: 0.8397\n",
      "Epoch 126/150\n",
      "176/176 [==============================] - 0s 3ms/step - loss: 0.3380 - accuracy: 0.8411\n",
      "Epoch 127/150\n",
      "176/176 [==============================] - 0s 2ms/step - loss: 0.3381 - accuracy: 0.8433\n",
      "Epoch 128/150\n",
      "176/176 [==============================] - 0s 2ms/step - loss: 0.3375 - accuracy: 0.8434\n",
      "Epoch 129/150\n",
      "176/176 [==============================] - 0s 2ms/step - loss: 0.3375 - accuracy: 0.8408\n",
      "Epoch 130/150\n",
      "176/176 [==============================] - 0s 2ms/step - loss: 0.3372 - accuracy: 0.8454\n",
      "Epoch 131/150\n",
      "176/176 [==============================] - 0s 3ms/step - loss: 0.3370 - accuracy: 0.8422\n",
      "Epoch 132/150\n",
      "176/176 [==============================] - 0s 2ms/step - loss: 0.3362 - accuracy: 0.8417\n",
      "Epoch 133/150\n",
      "176/176 [==============================] - 0s 2ms/step - loss: 0.3360 - accuracy: 0.8452\n",
      "Epoch 134/150\n",
      "176/176 [==============================] - 0s 2ms/step - loss: 0.3363 - accuracy: 0.8447\n",
      "Epoch 135/150\n",
      "176/176 [==============================] - 0s 2ms/step - loss: 0.3355 - accuracy: 0.8434\n",
      "Epoch 136/150\n",
      "176/176 [==============================] - 0s 2ms/step - loss: 0.3347 - accuracy: 0.8436\n",
      "Epoch 137/150\n",
      "176/176 [==============================] - 0s 2ms/step - loss: 0.3353 - accuracy: 0.8458\n",
      "Epoch 138/150\n",
      "176/176 [==============================] - 0s 2ms/step - loss: 0.3349 - accuracy: 0.8434\n",
      "Epoch 139/150\n",
      "176/176 [==============================] - 0s 2ms/step - loss: 0.3341 - accuracy: 0.8447\n",
      "Epoch 140/150\n",
      "176/176 [==============================] - 0s 2ms/step - loss: 0.3337 - accuracy: 0.8450\n",
      "Epoch 141/150\n",
      "176/176 [==============================] - 0s 2ms/step - loss: 0.3340 - accuracy: 0.8434\n",
      "Epoch 142/150\n",
      "176/176 [==============================] - 0s 3ms/step - loss: 0.3340 - accuracy: 0.8440\n",
      "Epoch 143/150\n",
      "176/176 [==============================] - 0s 2ms/step - loss: 0.3332 - accuracy: 0.8445\n",
      "Epoch 144/150\n",
      "176/176 [==============================] - 0s 2ms/step - loss: 0.3325 - accuracy: 0.8445\n",
      "Epoch 145/150\n",
      "176/176 [==============================] - 0s 2ms/step - loss: 0.3315 - accuracy: 0.8466\n",
      "Epoch 146/150\n",
      "176/176 [==============================] - 0s 2ms/step - loss: 0.3317 - accuracy: 0.8479\n",
      "Epoch 147/150\n",
      "176/176 [==============================] - 0s 3ms/step - loss: 0.3307 - accuracy: 0.8450\n",
      "Epoch 148/150\n",
      "176/176 [==============================] - 0s 3ms/step - loss: 0.3321 - accuracy: 0.8438\n",
      "Epoch 149/150\n",
      "176/176 [==============================] - 0s 2ms/step - loss: 0.3310 - accuracy: 0.8456\n",
      "Epoch 150/150\n",
      "176/176 [==============================] - 0s 3ms/step - loss: 0.3317 - accuracy: 0.8434\n"
     ]
    },
    {
     "data": {
      "text/plain": [
       "<keras.src.callbacks.History at 0x28ff6f38ca0>"
      ]
     },
     "execution_count": 47,
     "metadata": {},
     "output_type": "execute_result"
    }
   ],
   "source": [
    "import tensorflow as tf\n",
    "from tensorflow import keras\n",
    "\n",
    "\n",
    "model = keras.Sequential([\n",
    "    keras.layers.Dense(26, input_shape=(26,), activation='relu'),\n",
    "    keras.layers.Dense(15, activation='relu'),\n",
    "    keras.layers.Dense(1, activation='sigmoid')\n",
    "])\n",
    "\n",
    "# opt = keras.optimizers.Adam(learning_rate=0.01)\n",
    "\n",
    "model.compile(optimizer='adam',\n",
    "              loss='binary_crossentropy',\n",
    "              metrics=['accuracy'])\n",
    "\n",
    "model.fit(X_train, y_train, epochs=150)"
   ]
  },
  {
   "cell_type": "code",
   "execution_count": 48,
   "id": "993aa2e8",
   "metadata": {},
   "outputs": [
    {
     "name": "stdout",
     "output_type": "stream",
     "text": [
      "44/44 [==============================] - 0s 2ms/step - loss: 0.5266 - accuracy: 0.7575\n"
     ]
    },
    {
     "data": {
      "text/plain": [
       "[0.5266454219818115, 0.7574893236160278]"
      ]
     },
     "execution_count": 48,
     "metadata": {},
     "output_type": "execute_result"
    }
   ],
   "source": [
    "model.evaluate(X_test, y_test)"
   ]
  },
  {
   "cell_type": "code",
   "execution_count": 49,
   "id": "0fb29502",
   "metadata": {},
   "outputs": [
    {
     "name": "stdout",
     "output_type": "stream",
     "text": [
      "44/44 [==============================] - 0s 2ms/step\n"
     ]
    },
    {
     "data": {
      "text/plain": [
       "array([[0.01441241],\n",
       "       [0.06540413],\n",
       "       [0.72878474],\n",
       "       [0.00267589],\n",
       "       [0.48448667]], dtype=float32)"
      ]
     },
     "execution_count": 49,
     "metadata": {},
     "output_type": "execute_result"
    }
   ],
   "source": [
    "yp = model.predict(X_test)\n",
    "yp[:5]"
   ]
  },
  {
   "cell_type": "code",
   "execution_count": 50,
   "id": "491f90ea",
   "metadata": {},
   "outputs": [],
   "source": [
    "y_pred = []\n",
    "for element in yp:\n",
    "    if element > 0.5:\n",
    "        y_pred.append(1)\n",
    "    else:\n",
    "        y_pred.append(0)"
   ]
  },
  {
   "cell_type": "code",
   "execution_count": 51,
   "id": "90e56f0f",
   "metadata": {},
   "outputs": [
    {
     "data": {
      "text/plain": [
       "[0, 0, 1, 0, 0, 0, 0, 0, 1, 0]"
      ]
     },
     "execution_count": 51,
     "metadata": {},
     "output_type": "execute_result"
    }
   ],
   "source": [
    "y_pred[:10]"
   ]
  },
  {
   "cell_type": "code",
   "execution_count": 52,
   "id": "05109cbe",
   "metadata": {},
   "outputs": [
    {
     "data": {
      "text/plain": [
       "9       0\n",
       "5693    0\n",
       "1189    0\n",
       "3827    0\n",
       "40      0\n",
       "6140    0\n",
       "6142    1\n",
       "1049    1\n",
       "1719    0\n",
       "6067    0\n",
       "Name: Churn, dtype: int64"
      ]
     },
     "execution_count": 52,
     "metadata": {},
     "output_type": "execute_result"
    }
   ],
   "source": [
    "y_test[:10]"
   ]
  },
  {
   "cell_type": "code",
   "execution_count": 53,
   "id": "446be197",
   "metadata": {},
   "outputs": [
    {
     "name": "stdout",
     "output_type": "stream",
     "text": [
      "              precision    recall  f1-score   support\n",
      "\n",
      "           0       0.81      0.87      0.84      1014\n",
      "           1       0.58      0.47      0.52       388\n",
      "\n",
      "    accuracy                           0.76      1402\n",
      "   macro avg       0.69      0.67      0.68      1402\n",
      "weighted avg       0.75      0.76      0.75      1402\n",
      "\n"
     ]
    }
   ],
   "source": [
    "from sklearn.metrics import confusion_matrix , classification_report\n",
    "\n",
    "print(classification_report(y_test,y_pred))"
   ]
  },
  {
   "cell_type": "code",
   "execution_count": 54,
   "id": "d74dd6e9",
   "metadata": {},
   "outputs": [
    {
     "data": {
      "text/plain": [
       "Text(95.72222222222221, 0.5, 'Truth')"
      ]
     },
     "execution_count": 54,
     "metadata": {},
     "output_type": "execute_result"
    },
    {
     "data": {
      "image/png": "[encoded data removed]",
      "text/plain": [
       "<Figure size 1000x700 with 2 Axes>"
      ]
     },
     "metadata": {},
     "output_type": "display_data"
    }
   ],
   "source": [
    "import seaborn as sn\n",
    "cm = tf.math.confusion_matrix(labels=y_test,predictions=y_pred)\n",
    "\n",
    "plt.figure(figsize = (10,7))\n",
    "sn.heatmap(cm, annot=True, fmt='d')\n",
    "plt.xlabel('Predicted')\n",
    "plt.ylabel('Truth')"
   ]
  },
  {
   "cell_type": "markdown",
   "id": "a04a44f0",
   "metadata": {},
   "source": [
    "#### Accuracy"
   ]
  },
  {
   "cell_type": "code",
   "execution_count": 55,
   "id": "498ab8e5",
   "metadata": {},
   "outputs": [
    {
     "data": {
      "text/plain": [
       "0.76"
      ]
     },
     "execution_count": 55,
     "metadata": {},
     "output_type": "execute_result"
    }
   ],
   "source": [
    "round((891+169)/(891+219+123+169),2)"
   ]
  },
  {
   "cell_type": "markdown",
   "id": "26997df2",
   "metadata": {},
   "source": [
    "#### Precision for 0 class. i.e. Precision for customers who did not churn"
   ]
  },
  {
   "cell_type": "code",
   "execution_count": 56,
   "id": "da2248a9",
   "metadata": {},
   "outputs": [
    {
     "data": {
      "text/plain": [
       "0.8"
      ]
     },
     "execution_count": 56,
     "metadata": {},
     "output_type": "execute_result"
    }
   ],
   "source": [
    "round(891/(891+219),2)"
   ]
  },
  {
   "cell_type": "markdown",
   "id": "46026165",
   "metadata": {},
   "source": [
    "#### Precision for 1 class. i.e. Precision for customers who actually churned"
   ]
  },
  {
   "cell_type": "code",
   "execution_count": 57,
   "id": "7e73bb82",
   "metadata": {},
   "outputs": [
    {
     "data": {
      "text/plain": [
       "0.58"
      ]
     },
     "execution_count": 57,
     "metadata": {},
     "output_type": "execute_result"
    }
   ],
   "source": [
    "round(169/(169+123),2)"
   ]
  },
  {
   "cell_type": "markdown",
   "id": "4eb8c32e",
   "metadata": {},
   "source": [
    "#### Recall for 0 class"
   ]
  },
  {
   "cell_type": "code",
   "execution_count": 58,
   "id": "d79cfbc5",
   "metadata": {},
   "outputs": [
    {
     "data": {
      "text/plain": [
       "0.88"
      ]
     },
     "execution_count": 58,
     "metadata": {},
     "output_type": "execute_result"
    }
   ],
   "source": [
    "round(891/(891+123),2)"
   ]
  },
  {
   "cell_type": "markdown",
   "id": "d6e9ff2e",
   "metadata": {},
   "source": [
    "#### Recall for 1 class"
   ]
  },
  {
   "cell_type": "code",
   "execution_count": 59,
   "id": "6217f676",
   "metadata": {},
   "outputs": [
    {
     "data": {
      "text/plain": [
       "0.44"
      ]
     },
     "execution_count": 59,
     "metadata": {},
     "output_type": "execute_result"
    }
   ],
   "source": [
    "round(169/(169+219),2)"
   ]
  },
  {
   "cell_type": "raw",
   "id": "c519d468",
   "metadata": {},
   "source": [
    "IMBALANCED DATASET(We need to balance data to better model performance)"
   ]
  },
  {
   "cell_type": "code",
   "execution_count": 60,
   "id": "61f8e4cc",
   "metadata": {},
   "outputs": [],
   "source": [
    "def ANN(X_train, y_train, X_test, y_test, loss, weights):\n",
    "    model = keras.Sequential([\n",
    "        keras.layers.Dense(26, input_dim=26, activation='relu'),\n",
    "        keras.layers.Dense(15, activation='relu'),\n",
    "        keras.layers.Dense(1, activation='sigmoid')\n",
    "    ])\n",
    "\n",
    "    model.compile(optimizer='adam', loss=loss, metrics=['accuracy'])\n",
    "    \n",
    "    if weights == -1:\n",
    "        model.fit(X_train, y_train, epochs=100)\n",
    "    else:\n",
    "        model.fit(X_train, y_train, epochs=100, class_weight = weights)\n",
    "    \n",
    "    print(model.evaluate(X_test, y_test))\n",
    "    \n",
    "    y_preds = model.predict(X_test)\n",
    "    y_preds = np.round(y_preds)\n",
    "    \n",
    "    print(\"Classification Report: \\n\", classification_report(y_test, y_preds))\n",
    "    \n",
    "    return y_preds"
   ]
  },
  {
   "cell_type": "markdown",
   "id": "49ad3932",
   "metadata": {},
   "source": [
    "### Mitigating Skewdness of Data"
   ]
  },
  {
   "cell_type": "markdown",
   "id": "b5e0791c",
   "metadata": {},
   "source": [
    "#### Method 1: Undersampling"
   ]
  },
  {
   "cell_type": "code",
   "execution_count": 62,
   "id": "9d8a806f",
   "metadata": {},
   "outputs": [],
   "source": [
    "count_class_0,count_class_1=df2.Churn.value_counts()"
   ]
  },
  {
   "cell_type": "code",
   "execution_count": 63,
   "id": "3ec40b88",
   "metadata": {},
   "outputs": [
    {
     "data": {
      "text/plain": [
       "(5153, 1857)"
      ]
     },
     "execution_count": 63,
     "metadata": {},
     "output_type": "execute_result"
    }
   ],
   "source": [
    "count_class_0,count_class_1"
   ]
  },
  {
   "cell_type": "code",
   "execution_count": 68,
   "id": "3c820909",
   "metadata": {},
   "outputs": [],
   "source": [
    "#divide by class\n",
    "df_class_0=df2[df2['Churn']==0]\n",
    "df_class_1=df2[df2['Churn']==1]"
   ]
  },
  {
   "cell_type": "code",
   "execution_count": 74,
   "id": "120aa0f1",
   "metadata": {},
   "outputs": [
    {
     "name": "stdout",
     "output_type": "stream",
     "text": [
      "Random under sampling\n"
     ]
    },
    {
     "data": {
      "text/plain": [
       "0    1857\n",
       "1    1857\n",
       "Name: Churn, dtype: int64"
      ]
     },
     "execution_count": 74,
     "metadata": {},
     "output_type": "execute_result"
    }
   ],
   "source": [
    "df_class_0_under=df_class_0.sample(count_class_1)\n",
    "df_test_under=pd.concat([df_class_0_under,df_class_1],axis=0)\n",
    "print('Random under sampling')\n",
    "df_test_under.Churn.value_counts()"
   ]
  },
  {
   "cell_type": "code",
   "execution_count": 75,
   "id": "93fba8af",
   "metadata": {},
   "outputs": [],
   "source": [
    "X=df_test_under.drop('Churn',axis=1)\n",
    "y=df_test_under['Churn']\n",
    "from sklearn.model_selection import train_test_split\n",
    "X_train,X_test,y_train,y_test=train_test_split(X,y,test_size=0.2,random_state=5,stratify=y)"
   ]
  },
  {
   "cell_type": "code",
   "execution_count": 77,
   "id": "8530f629",
   "metadata": {},
   "outputs": [
    {
     "data": {
      "text/plain": [
       "(2971, 26)"
      ]
     },
     "execution_count": 77,
     "metadata": {},
     "output_type": "execute_result"
    }
   ],
   "source": [
    "X_train.shape"
   ]
  },
  {
   "cell_type": "code",
   "execution_count": 78,
   "id": "4933e4ab",
   "metadata": {},
   "outputs": [
    {
     "data": {
      "text/plain": [
       "(2971,)"
      ]
     },
     "execution_count": 78,
     "metadata": {},
     "output_type": "execute_result"
    }
   ],
   "source": [
    "y_train.shape"
   ]
  },
  {
   "cell_type": "code",
   "execution_count": 82,
   "id": "c501cafc",
   "metadata": {},
   "outputs": [
    {
     "data": {
      "text/plain": [
       "0    1486\n",
       "1    1485\n",
       "Name: Churn, dtype: int64"
      ]
     },
     "execution_count": 82,
     "metadata": {},
     "output_type": "execute_result"
    }
   ],
   "source": [
    "y_train.value_counts()"
   ]
  },
  {
   "cell_type": "code",
   "execution_count": 83,
   "id": "cbc5a3fa",
   "metadata": {},
   "outputs": [
    {
     "name": "stdout",
     "output_type": "stream",
     "text": [
      "Epoch 1/100\n",
      "93/93 [==============================] - 1s 2ms/step - loss: 0.6183 - accuracy: 0.6927\n",
      "Epoch 2/100\n",
      "93/93 [==============================] - 0s 3ms/step - loss: 0.5239 - accuracy: 0.7476\n",
      "Epoch 3/100\n",
      "93/93 [==============================] - 0s 3ms/step - loss: 0.5062 - accuracy: 0.7563\n",
      "Epoch 4/100\n",
      "93/93 [==============================] - 0s 3ms/step - loss: 0.4995 - accuracy: 0.7587\n",
      "Epoch 5/100\n",
      "93/93 [==============================] - 0s 3ms/step - loss: 0.4947 - accuracy: 0.7647\n",
      "Epoch 6/100\n",
      "93/93 [==============================] - 0s 2ms/step - loss: 0.4917 - accuracy: 0.7617\n",
      "Epoch 7/100\n",
      "93/93 [==============================] - 0s 3ms/step - loss: 0.4897 - accuracy: 0.7607\n",
      "Epoch 8/100\n",
      "93/93 [==============================] - 0s 3ms/step - loss: 0.4866 - accuracy: 0.7634\n",
      "Epoch 9/100\n",
      "93/93 [==============================] - 0s 2ms/step - loss: 0.4842 - accuracy: 0.7667\n",
      "Epoch 10/100\n",
      "93/93 [==============================] - 0s 3ms/step - loss: 0.4830 - accuracy: 0.7657\n",
      "Epoch 11/100\n",
      "93/93 [==============================] - 0s 3ms/step - loss: 0.4805 - accuracy: 0.7667\n",
      "Epoch 12/100\n",
      "93/93 [==============================] - 0s 3ms/step - loss: 0.4802 - accuracy: 0.7688\n",
      "Epoch 13/100\n",
      "93/93 [==============================] - 0s 3ms/step - loss: 0.4791 - accuracy: 0.7684\n",
      "Epoch 14/100\n",
      "93/93 [==============================] - 0s 3ms/step - loss: 0.4779 - accuracy: 0.7691\n",
      "Epoch 15/100\n",
      "93/93 [==============================] - 0s 3ms/step - loss: 0.4752 - accuracy: 0.7684\n",
      "Epoch 16/100\n",
      "93/93 [==============================] - 0s 3ms/step - loss: 0.4737 - accuracy: 0.7701\n",
      "Epoch 17/100\n",
      "93/93 [==============================] - 0s 3ms/step - loss: 0.4721 - accuracy: 0.7704\n",
      "Epoch 18/100\n",
      "93/93 [==============================] - 0s 3ms/step - loss: 0.4713 - accuracy: 0.7762\n",
      "Epoch 19/100\n",
      "93/93 [==============================] - 0s 4ms/step - loss: 0.4699 - accuracy: 0.7742\n",
      "Epoch 20/100\n",
      "93/93 [==============================] - 0s 3ms/step - loss: 0.4702 - accuracy: 0.7779\n",
      "Epoch 21/100\n",
      "93/93 [==============================] - 0s 3ms/step - loss: 0.4680 - accuracy: 0.7752\n",
      "Epoch 22/100\n",
      "93/93 [==============================] - 0s 3ms/step - loss: 0.4665 - accuracy: 0.7795\n",
      "Epoch 23/100\n",
      "93/93 [==============================] - 0s 3ms/step - loss: 0.4647 - accuracy: 0.7795\n",
      "Epoch 24/100\n",
      "93/93 [==============================] - 0s 3ms/step - loss: 0.4628 - accuracy: 0.7819\n",
      "Epoch 25/100\n",
      "93/93 [==============================] - 0s 3ms/step - loss: 0.4621 - accuracy: 0.7775\n",
      "Epoch 26/100\n",
      "93/93 [==============================] - 0s 3ms/step - loss: 0.4598 - accuracy: 0.7802\n",
      "Epoch 27/100\n",
      "93/93 [==============================] - 0s 3ms/step - loss: 0.4594 - accuracy: 0.7822\n",
      "Epoch 28/100\n",
      "93/93 [==============================] - 0s 3ms/step - loss: 0.4597 - accuracy: 0.7795\n",
      "Epoch 29/100\n",
      "93/93 [==============================] - 0s 3ms/step - loss: 0.4560 - accuracy: 0.7846\n",
      "Epoch 30/100\n",
      "93/93 [==============================] - 0s 3ms/step - loss: 0.4582 - accuracy: 0.7789\n",
      "Epoch 31/100\n",
      "93/93 [==============================] - 0s 3ms/step - loss: 0.4549 - accuracy: 0.7836\n",
      "Epoch 32/100\n",
      "93/93 [==============================] - 0s 2ms/step - loss: 0.4524 - accuracy: 0.7839\n",
      "Epoch 33/100\n",
      "93/93 [==============================] - 0s 3ms/step - loss: 0.4541 - accuracy: 0.7836\n",
      "Epoch 34/100\n",
      "93/93 [==============================] - 0s 3ms/step - loss: 0.4513 - accuracy: 0.7819\n",
      "Epoch 35/100\n",
      "93/93 [==============================] - 0s 3ms/step - loss: 0.4493 - accuracy: 0.7876\n",
      "Epoch 36/100\n",
      "93/93 [==============================] - 0s 3ms/step - loss: 0.4478 - accuracy: 0.7859\n",
      "Epoch 37/100\n",
      "93/93 [==============================] - 0s 2ms/step - loss: 0.4456 - accuracy: 0.7886\n",
      "Epoch 38/100\n",
      "93/93 [==============================] - 0s 2ms/step - loss: 0.4494 - accuracy: 0.7873\n",
      "Epoch 39/100\n",
      "93/93 [==============================] - 0s 2ms/step - loss: 0.4455 - accuracy: 0.7866\n",
      "Epoch 40/100\n",
      "93/93 [==============================] - 0s 3ms/step - loss: 0.4439 - accuracy: 0.7886\n",
      "Epoch 41/100\n",
      "93/93 [==============================] - 0s 2ms/step - loss: 0.4424 - accuracy: 0.7893\n",
      "Epoch 42/100\n",
      "93/93 [==============================] - 0s 2ms/step - loss: 0.4411 - accuracy: 0.7906\n",
      "Epoch 43/100\n",
      "93/93 [==============================] - 0s 2ms/step - loss: 0.4403 - accuracy: 0.7913\n",
      "Epoch 44/100\n",
      "93/93 [==============================] - 0s 3ms/step - loss: 0.4380 - accuracy: 0.7896\n",
      "Epoch 45/100\n",
      "93/93 [==============================] - 0s 2ms/step - loss: 0.4395 - accuracy: 0.7930\n",
      "Epoch 46/100\n",
      "93/93 [==============================] - 0s 2ms/step - loss: 0.4372 - accuracy: 0.7960\n",
      "Epoch 47/100\n",
      "93/93 [==============================] - 0s 2ms/step - loss: 0.4368 - accuracy: 0.7964\n",
      "Epoch 48/100\n",
      "93/93 [==============================] - 0s 2ms/step - loss: 0.4351 - accuracy: 0.7947\n",
      "Epoch 49/100\n",
      "93/93 [==============================] - 0s 2ms/step - loss: 0.4338 - accuracy: 0.7943\n",
      "Epoch 50/100\n",
      "93/93 [==============================] - 0s 2ms/step - loss: 0.4332 - accuracy: 0.7997\n",
      "Epoch 51/100\n",
      "93/93 [==============================] - 0s 3ms/step - loss: 0.4324 - accuracy: 0.7943\n",
      "Epoch 52/100\n",
      "93/93 [==============================] - 0s 2ms/step - loss: 0.4293 - accuracy: 0.7940\n",
      "Epoch 53/100\n",
      "93/93 [==============================] - 0s 2ms/step - loss: 0.4299 - accuracy: 0.7957\n",
      "Epoch 54/100\n",
      "93/93 [==============================] - 0s 2ms/step - loss: 0.4278 - accuracy: 0.7991\n",
      "Epoch 55/100\n",
      "93/93 [==============================] - 0s 3ms/step - loss: 0.4276 - accuracy: 0.7967\n",
      "Epoch 56/100\n",
      "93/93 [==============================] - 0s 3ms/step - loss: 0.4247 - accuracy: 0.7987\n",
      "Epoch 57/100\n",
      "93/93 [==============================] - 0s 3ms/step - loss: 0.4258 - accuracy: 0.7930\n",
      "Epoch 58/100\n",
      "93/93 [==============================] - 0s 3ms/step - loss: 0.4250 - accuracy: 0.8004\n",
      "Epoch 59/100\n",
      "93/93 [==============================] - 0s 2ms/step - loss: 0.4248 - accuracy: 0.8044\n",
      "Epoch 60/100\n",
      "93/93 [==============================] - 0s 3ms/step - loss: 0.4224 - accuracy: 0.8007\n",
      "Epoch 61/100\n",
      "93/93 [==============================] - 0s 2ms/step - loss: 0.4207 - accuracy: 0.8024\n",
      "Epoch 62/100\n",
      "93/93 [==============================] - 0s 3ms/step - loss: 0.4221 - accuracy: 0.7994\n",
      "Epoch 63/100\n",
      "93/93 [==============================] - 0s 3ms/step - loss: 0.4188 - accuracy: 0.8071\n",
      "Epoch 64/100\n",
      "93/93 [==============================] - 0s 2ms/step - loss: 0.4189 - accuracy: 0.8051\n",
      "Epoch 65/100\n",
      "93/93 [==============================] - 0s 2ms/step - loss: 0.4213 - accuracy: 0.8031\n",
      "Epoch 66/100\n",
      "93/93 [==============================] - 0s 2ms/step - loss: 0.4180 - accuracy: 0.8055\n",
      "Epoch 67/100\n",
      "93/93 [==============================] - 0s 2ms/step - loss: 0.4151 - accuracy: 0.8078\n",
      "Epoch 68/100\n",
      "93/93 [==============================] - 0s 2ms/step - loss: 0.4147 - accuracy: 0.8055\n",
      "Epoch 69/100\n",
      "93/93 [==============================] - 0s 2ms/step - loss: 0.4131 - accuracy: 0.8132\n",
      "Epoch 70/100\n",
      "93/93 [==============================] - 0s 3ms/step - loss: 0.4139 - accuracy: 0.8055\n",
      "Epoch 71/100\n",
      "93/93 [==============================] - 0s 3ms/step - loss: 0.4126 - accuracy: 0.8125\n",
      "Epoch 72/100\n",
      "93/93 [==============================] - 0s 3ms/step - loss: 0.4154 - accuracy: 0.8061\n",
      "Epoch 73/100\n",
      "93/93 [==============================] - 0s 3ms/step - loss: 0.4118 - accuracy: 0.8075\n",
      "Epoch 74/100\n",
      "93/93 [==============================] - 0s 3ms/step - loss: 0.4120 - accuracy: 0.8081\n",
      "Epoch 75/100\n",
      "93/93 [==============================] - 0s 3ms/step - loss: 0.4090 - accuracy: 0.8092\n",
      "Epoch 76/100\n",
      "93/93 [==============================] - 0s 2ms/step - loss: 0.4090 - accuracy: 0.8051\n",
      "Epoch 77/100\n",
      "93/93 [==============================] - 0s 2ms/step - loss: 0.4089 - accuracy: 0.8075\n",
      "Epoch 78/100\n",
      "93/93 [==============================] - 0s 3ms/step - loss: 0.4066 - accuracy: 0.8132\n",
      "Epoch 79/100\n",
      "93/93 [==============================] - 0s 2ms/step - loss: 0.4054 - accuracy: 0.8152\n",
      "Epoch 80/100\n",
      "93/93 [==============================] - 0s 2ms/step - loss: 0.4046 - accuracy: 0.8179\n",
      "Epoch 81/100\n",
      "93/93 [==============================] - 0s 2ms/step - loss: 0.4088 - accuracy: 0.8105\n",
      "Epoch 82/100\n",
      "93/93 [==============================] - 0s 2ms/step - loss: 0.4041 - accuracy: 0.8142\n",
      "Epoch 83/100\n"
     ]
    },
    {
     "name": "stdout",
     "output_type": "stream",
     "text": [
      "93/93 [==============================] - 0s 3ms/step - loss: 0.4021 - accuracy: 0.8105\n",
      "Epoch 84/100\n",
      "93/93 [==============================] - 0s 3ms/step - loss: 0.4036 - accuracy: 0.8132\n",
      "Epoch 85/100\n",
      "93/93 [==============================] - 0s 3ms/step - loss: 0.4010 - accuracy: 0.8149\n",
      "Epoch 86/100\n",
      "93/93 [==============================] - 0s 3ms/step - loss: 0.4009 - accuracy: 0.8152\n",
      "Epoch 87/100\n",
      "93/93 [==============================] - 0s 3ms/step - loss: 0.3995 - accuracy: 0.8152\n",
      "Epoch 88/100\n",
      "93/93 [==============================] - 0s 3ms/step - loss: 0.3997 - accuracy: 0.8132\n",
      "Epoch 89/100\n",
      "93/93 [==============================] - 0s 3ms/step - loss: 0.3984 - accuracy: 0.8206\n",
      "Epoch 90/100\n",
      "93/93 [==============================] - 0s 3ms/step - loss: 0.3984 - accuracy: 0.8189\n",
      "Epoch 91/100\n",
      "93/93 [==============================] - 0s 2ms/step - loss: 0.3996 - accuracy: 0.8186\n",
      "Epoch 92/100\n",
      "93/93 [==============================] - 0s 3ms/step - loss: 0.3939 - accuracy: 0.8189\n",
      "Epoch 93/100\n",
      "93/93 [==============================] - 0s 3ms/step - loss: 0.3947 - accuracy: 0.8213\n",
      "Epoch 94/100\n",
      "93/93 [==============================] - 0s 3ms/step - loss: 0.3955 - accuracy: 0.8233\n",
      "Epoch 95/100\n",
      "93/93 [==============================] - 0s 3ms/step - loss: 0.3930 - accuracy: 0.8199\n",
      "Epoch 96/100\n",
      "93/93 [==============================] - 0s 2ms/step - loss: 0.3935 - accuracy: 0.8193\n",
      "Epoch 97/100\n",
      "93/93 [==============================] - 0s 3ms/step - loss: 0.3930 - accuracy: 0.8186\n",
      "Epoch 98/100\n",
      "93/93 [==============================] - 0s 2ms/step - loss: 0.3898 - accuracy: 0.8213\n",
      "Epoch 99/100\n",
      "93/93 [==============================] - 0s 3ms/step - loss: 0.3909 - accuracy: 0.8246\n",
      "Epoch 100/100\n",
      "93/93 [==============================] - 0s 3ms/step - loss: 0.3910 - accuracy: 0.8253\n",
      "24/24 [==============================] - 0s 3ms/step - loss: 0.5052 - accuracy: 0.7618\n",
      "[0.5051917433738708, 0.7617765665054321]\n",
      "24/24 [==============================] - 0s 2ms/step\n",
      "Classification Report: \n",
      "               precision    recall  f1-score   support\n",
      "\n",
      "           0       0.76      0.76      0.76       371\n",
      "           1       0.76      0.76      0.76       372\n",
      "\n",
      "    accuracy                           0.76       743\n",
      "   macro avg       0.76      0.76      0.76       743\n",
      "weighted avg       0.76      0.76      0.76       743\n",
      "\n"
     ]
    }
   ],
   "source": [
    "y_preds = ANN(X_train, y_train, X_test, y_test, 'binary_crossentropy', -1)"
   ]
  },
  {
   "cell_type": "raw",
   "id": "c8b920ee",
   "metadata": {},
   "source": [
    "Check classification report above. f1-score for minority class 1 improved from 0.57 to 0.76. Score for class 0 reduced to 0.75 from 0.85 but that's ok. We have more generalized classifier which classifies both classes with similar prediction score"
   ]
  },
  {
   "cell_type": "markdown",
   "id": "a49d4d2c",
   "metadata": {},
   "source": [
    "### Method2: Oversampling"
   ]
  },
  {
   "cell_type": "code",
   "execution_count": 85,
   "id": "43b9befa",
   "metadata": {},
   "outputs": [
    {
     "data": {
      "text/plain": [
       "((5153, 27), (1857, 27))"
      ]
     },
     "execution_count": 85,
     "metadata": {},
     "output_type": "execute_result"
    }
   ],
   "source": [
    "df_class_0.shape,df_class_1.shape"
   ]
  },
  {
   "cell_type": "code",
   "execution_count": 91,
   "id": "f114c3fc",
   "metadata": {},
   "outputs": [
    {
     "name": "stdout",
     "output_type": "stream",
     "text": [
      "Random sampling\n"
     ]
    },
    {
     "data": {
      "text/plain": [
       "1    5153\n",
       "0    5153\n",
       "Name: Churn, dtype: int64"
      ]
     },
     "execution_count": 91,
     "metadata": {},
     "output_type": "execute_result"
    }
   ],
   "source": [
    "df_class_over=df_class_1.sample(count_class_0,replace=True)\n",
    "df_test_over=pd.concat([df_class_over,df_class_0])\n",
    "\n",
    "print('Random sampling')\n",
    "df_test_over.Churn.value_counts()"
   ]
  },
  {
   "cell_type": "code",
   "execution_count": 92,
   "id": "d7b2f997",
   "metadata": {},
   "outputs": [],
   "source": [
    "X=df_test_over.drop('Churn',axis=1)\n",
    "y=df_test_over['Churn']\n",
    "from sklearn.model_selection import train_test_split\n",
    "X_train,X_test,y_train,y_test=train_test_split(X,y,test_size=0.2,random_state=5,stratify=y)"
   ]
  },
  {
   "cell_type": "code",
   "execution_count": 93,
   "id": "77fa6666",
   "metadata": {},
   "outputs": [
    {
     "data": {
      "text/plain": [
       "(8244, 26)"
      ]
     },
     "execution_count": 93,
     "metadata": {},
     "output_type": "execute_result"
    }
   ],
   "source": [
    "X_train.shape"
   ]
  },
  {
   "cell_type": "code",
   "execution_count": 94,
   "id": "93366c94",
   "metadata": {},
   "outputs": [
    {
     "data": {
      "text/plain": [
       "0    4122\n",
       "1    4122\n",
       "Name: Churn, dtype: int64"
      ]
     },
     "execution_count": 94,
     "metadata": {},
     "output_type": "execute_result"
    }
   ],
   "source": [
    "y_train.value_counts()"
   ]
  },
  {
   "cell_type": "code",
   "execution_count": 95,
   "id": "543aaadc",
   "metadata": {},
   "outputs": [
    {
     "name": "stdout",
     "output_type": "stream",
     "text": [
      "Epoch 1/100\n",
      "258/258 [==============================] - 1s 2ms/step - loss: 0.5519 - accuracy: 0.7215\n",
      "Epoch 2/100\n",
      "258/258 [==============================] - 1s 2ms/step - loss: 0.4905 - accuracy: 0.7675\n",
      "Epoch 3/100\n",
      "258/258 [==============================] - 1s 2ms/step - loss: 0.4803 - accuracy: 0.7720\n",
      "Epoch 4/100\n",
      "258/258 [==============================] - 1s 3ms/step - loss: 0.4743 - accuracy: 0.7755\n",
      "Epoch 5/100\n",
      "258/258 [==============================] - 1s 3ms/step - loss: 0.4709 - accuracy: 0.7769\n",
      "Epoch 6/100\n",
      "258/258 [==============================] - 1s 3ms/step - loss: 0.4676 - accuracy: 0.7786\n",
      "Epoch 7/100\n",
      "258/258 [==============================] - 1s 3ms/step - loss: 0.4650 - accuracy: 0.7824\n",
      "Epoch 8/100\n",
      "258/258 [==============================] - 1s 3ms/step - loss: 0.4624 - accuracy: 0.7796\n",
      "Epoch 9/100\n",
      "258/258 [==============================] - 1s 3ms/step - loss: 0.4603 - accuracy: 0.7792\n",
      "Epoch 10/100\n",
      "258/258 [==============================] - 1s 3ms/step - loss: 0.4576 - accuracy: 0.7854\n",
      "Epoch 11/100\n",
      "258/258 [==============================] - 1s 3ms/step - loss: 0.4559 - accuracy: 0.7849\n",
      "Epoch 12/100\n",
      "258/258 [==============================] - 1s 3ms/step - loss: 0.4540 - accuracy: 0.7863\n",
      "Epoch 13/100\n",
      "258/258 [==============================] - 1s 3ms/step - loss: 0.4520 - accuracy: 0.7874\n",
      "Epoch 14/100\n",
      "258/258 [==============================] - 1s 3ms/step - loss: 0.4502 - accuracy: 0.7872\n",
      "Epoch 15/100\n",
      "258/258 [==============================] - 1s 3ms/step - loss: 0.4489 - accuracy: 0.7885\n",
      "Epoch 16/100\n",
      "258/258 [==============================] - 1s 3ms/step - loss: 0.4461 - accuracy: 0.7914\n",
      "Epoch 17/100\n",
      "258/258 [==============================] - 1s 3ms/step - loss: 0.4442 - accuracy: 0.7902\n",
      "Epoch 18/100\n",
      "258/258 [==============================] - 1s 3ms/step - loss: 0.4439 - accuracy: 0.7933\n",
      "Epoch 19/100\n",
      "258/258 [==============================] - 1s 3ms/step - loss: 0.4416 - accuracy: 0.7923\n",
      "Epoch 20/100\n",
      "258/258 [==============================] - 1s 3ms/step - loss: 0.4386 - accuracy: 0.7933\n",
      "Epoch 21/100\n",
      "258/258 [==============================] - 1s 3ms/step - loss: 0.4373 - accuracy: 0.7918\n",
      "Epoch 22/100\n",
      "258/258 [==============================] - 1s 3ms/step - loss: 0.4365 - accuracy: 0.7943\n",
      "Epoch 23/100\n",
      "258/258 [==============================] - 1s 3ms/step - loss: 0.4346 - accuracy: 0.7966\n",
      "Epoch 24/100\n",
      "258/258 [==============================] - 1s 3ms/step - loss: 0.4321 - accuracy: 0.7994\n",
      "Epoch 25/100\n",
      "258/258 [==============================] - 1s 3ms/step - loss: 0.4308 - accuracy: 0.8001\n",
      "Epoch 26/100\n",
      "258/258 [==============================] - 1s 3ms/step - loss: 0.4298 - accuracy: 0.7959\n",
      "Epoch 27/100\n",
      "258/258 [==============================] - 1s 3ms/step - loss: 0.4282 - accuracy: 0.7995\n",
      "Epoch 28/100\n",
      "258/258 [==============================] - 1s 3ms/step - loss: 0.4263 - accuracy: 0.8012\n",
      "Epoch 29/100\n",
      "258/258 [==============================] - 1s 3ms/step - loss: 0.4260 - accuracy: 0.7983\n",
      "Epoch 30/100\n",
      "258/258 [==============================] - 1s 3ms/step - loss: 0.4241 - accuracy: 0.8003\n",
      "Epoch 31/100\n",
      "258/258 [==============================] - 1s 3ms/step - loss: 0.4221 - accuracy: 0.8018\n",
      "Epoch 32/100\n",
      "258/258 [==============================] - 0s 1ms/step - loss: 0.4206 - accuracy: 0.8026\n",
      "Epoch 33/100\n",
      "258/258 [==============================] - 1s 2ms/step - loss: 0.4193 - accuracy: 0.8052\n",
      "Epoch 34/100\n",
      "258/258 [==============================] - 1s 2ms/step - loss: 0.4192 - accuracy: 0.8052\n",
      "Epoch 35/100\n",
      "258/258 [==============================] - 0s 2ms/step - loss: 0.4182 - accuracy: 0.8053\n",
      "Epoch 36/100\n",
      "258/258 [==============================] - 1s 2ms/step - loss: 0.4150 - accuracy: 0.8043\n",
      "Epoch 37/100\n",
      "258/258 [==============================] - 1s 3ms/step - loss: 0.4155 - accuracy: 0.8073\n",
      "Epoch 38/100\n",
      "258/258 [==============================] - 1s 2ms/step - loss: 0.4138 - accuracy: 0.8081\n",
      "Epoch 39/100\n",
      "258/258 [==============================] - 1s 2ms/step - loss: 0.4134 - accuracy: 0.8102\n",
      "Epoch 40/100\n",
      "258/258 [==============================] - 1s 2ms/step - loss: 0.4105 - accuracy: 0.8079\n",
      "Epoch 41/100\n",
      "258/258 [==============================] - 1s 2ms/step - loss: 0.4092 - accuracy: 0.8092\n",
      "Epoch 42/100\n",
      "258/258 [==============================] - 1s 3ms/step - loss: 0.4096 - accuracy: 0.8080\n",
      "Epoch 43/100\n",
      "258/258 [==============================] - 1s 3ms/step - loss: 0.4067 - accuracy: 0.8111\n",
      "Epoch 44/100\n",
      "258/258 [==============================] - 1s 3ms/step - loss: 0.4070 - accuracy: 0.8094\n",
      "Epoch 45/100\n",
      "258/258 [==============================] - 1s 3ms/step - loss: 0.4050 - accuracy: 0.8119\n",
      "Epoch 46/100\n",
      "258/258 [==============================] - 1s 3ms/step - loss: 0.4042 - accuracy: 0.8143\n",
      "Epoch 47/100\n",
      "258/258 [==============================] - 1s 3ms/step - loss: 0.4035 - accuracy: 0.8098\n",
      "Epoch 48/100\n",
      "258/258 [==============================] - 1s 3ms/step - loss: 0.4018 - accuracy: 0.8155\n",
      "Epoch 49/100\n",
      "258/258 [==============================] - 1s 3ms/step - loss: 0.4008 - accuracy: 0.8147\n",
      "Epoch 50/100\n",
      "258/258 [==============================] - 1s 3ms/step - loss: 0.4008 - accuracy: 0.8139\n",
      "Epoch 51/100\n",
      "258/258 [==============================] - 1s 3ms/step - loss: 0.3979 - accuracy: 0.8173\n",
      "Epoch 52/100\n",
      "258/258 [==============================] - 1s 3ms/step - loss: 0.3982 - accuracy: 0.8138\n",
      "Epoch 53/100\n",
      "258/258 [==============================] - 1s 3ms/step - loss: 0.3972 - accuracy: 0.8139\n",
      "Epoch 54/100\n",
      "258/258 [==============================] - 1s 3ms/step - loss: 0.3951 - accuracy: 0.8173\n",
      "Epoch 55/100\n",
      "258/258 [==============================] - 1s 3ms/step - loss: 0.3953 - accuracy: 0.8156\n",
      "Epoch 56/100\n",
      "258/258 [==============================] - 1s 3ms/step - loss: 0.3924 - accuracy: 0.8177\n",
      "Epoch 57/100\n",
      "258/258 [==============================] - 1s 3ms/step - loss: 0.3935 - accuracy: 0.8205\n",
      "Epoch 58/100\n",
      "258/258 [==============================] - 1s 3ms/step - loss: 0.3911 - accuracy: 0.8218\n",
      "Epoch 59/100\n",
      "258/258 [==============================] - 1s 3ms/step - loss: 0.3906 - accuracy: 0.8218\n",
      "Epoch 60/100\n",
      "258/258 [==============================] - 1s 3ms/step - loss: 0.3906 - accuracy: 0.8193\n",
      "Epoch 61/100\n",
      "258/258 [==============================] - 1s 3ms/step - loss: 0.3884 - accuracy: 0.8219\n",
      "Epoch 62/100\n",
      "258/258 [==============================] - 1s 3ms/step - loss: 0.3892 - accuracy: 0.8228\n",
      "Epoch 63/100\n",
      "258/258 [==============================] - 1s 3ms/step - loss: 0.3889 - accuracy: 0.8239\n",
      "Epoch 64/100\n",
      "258/258 [==============================] - 1s 3ms/step - loss: 0.3863 - accuracy: 0.8246\n",
      "Epoch 65/100\n",
      "258/258 [==============================] - 1s 3ms/step - loss: 0.3860 - accuracy: 0.8228\n",
      "Epoch 66/100\n",
      "258/258 [==============================] - 1s 3ms/step - loss: 0.3845 - accuracy: 0.8264\n",
      "Epoch 67/100\n",
      "258/258 [==============================] - 1s 3ms/step - loss: 0.3843 - accuracy: 0.8244\n",
      "Epoch 68/100\n",
      "258/258 [==============================] - 1s 3ms/step - loss: 0.3834 - accuracy: 0.8265\n",
      "Epoch 69/100\n",
      "258/258 [==============================] - 1s 3ms/step - loss: 0.3815 - accuracy: 0.8282\n",
      "Epoch 70/100\n",
      "258/258 [==============================] - 1s 3ms/step - loss: 0.3825 - accuracy: 0.8263\n",
      "Epoch 71/100\n",
      "258/258 [==============================] - 1s 3ms/step - loss: 0.3799 - accuracy: 0.8291\n",
      "Epoch 72/100\n",
      "258/258 [==============================] - 1s 3ms/step - loss: 0.3808 - accuracy: 0.8271\n",
      "Epoch 73/100\n",
      "258/258 [==============================] - 1s 3ms/step - loss: 0.3796 - accuracy: 0.8264\n",
      "Epoch 74/100\n",
      "258/258 [==============================] - 1s 3ms/step - loss: 0.3778 - accuracy: 0.8299\n",
      "Epoch 75/100\n",
      "258/258 [==============================] - 1s 3ms/step - loss: 0.3782 - accuracy: 0.8292\n",
      "Epoch 76/100\n",
      "258/258 [==============================] - 1s 3ms/step - loss: 0.3775 - accuracy: 0.8298\n",
      "Epoch 77/100\n",
      "258/258 [==============================] - 1s 3ms/step - loss: 0.3756 - accuracy: 0.8290\n",
      "Epoch 78/100\n",
      "258/258 [==============================] - 1s 3ms/step - loss: 0.3759 - accuracy: 0.8314\n",
      "Epoch 79/100\n",
      "258/258 [==============================] - 1s 2ms/step - loss: 0.3752 - accuracy: 0.8304\n",
      "Epoch 80/100\n",
      "258/258 [==============================] - 1s 3ms/step - loss: 0.3741 - accuracy: 0.8295\n",
      "Epoch 81/100\n"
     ]
    },
    {
     "name": "stdout",
     "output_type": "stream",
     "text": [
      "258/258 [==============================] - 1s 2ms/step - loss: 0.3728 - accuracy: 0.8316\n",
      "Epoch 82/100\n",
      "258/258 [==============================] - 1s 3ms/step - loss: 0.3716 - accuracy: 0.8331\n",
      "Epoch 83/100\n",
      "258/258 [==============================] - 1s 3ms/step - loss: 0.3719 - accuracy: 0.8345\n",
      "Epoch 84/100\n",
      "258/258 [==============================] - 1s 3ms/step - loss: 0.3708 - accuracy: 0.8331\n",
      "Epoch 85/100\n",
      "258/258 [==============================] - 1s 3ms/step - loss: 0.3720 - accuracy: 0.8336\n",
      "Epoch 86/100\n",
      "258/258 [==============================] - 1s 3ms/step - loss: 0.3702 - accuracy: 0.8364\n",
      "Epoch 87/100\n",
      "258/258 [==============================] - 1s 3ms/step - loss: 0.3685 - accuracy: 0.8350\n",
      "Epoch 88/100\n",
      "258/258 [==============================] - 1s 3ms/step - loss: 0.3677 - accuracy: 0.8356\n",
      "Epoch 89/100\n",
      "258/258 [==============================] - 1s 3ms/step - loss: 0.3688 - accuracy: 0.8354\n",
      "Epoch 90/100\n",
      "258/258 [==============================] - 1s 3ms/step - loss: 0.3665 - accuracy: 0.8372\n",
      "Epoch 91/100\n",
      "258/258 [==============================] - 1s 3ms/step - loss: 0.3658 - accuracy: 0.8377\n",
      "Epoch 92/100\n",
      "258/258 [==============================] - 1s 3ms/step - loss: 0.3642 - accuracy: 0.8406\n",
      "Epoch 93/100\n",
      "258/258 [==============================] - 1s 3ms/step - loss: 0.3645 - accuracy: 0.8407\n",
      "Epoch 94/100\n",
      "258/258 [==============================] - 1s 3ms/step - loss: 0.3642 - accuracy: 0.8393\n",
      "Epoch 95/100\n",
      "258/258 [==============================] - 1s 3ms/step - loss: 0.3644 - accuracy: 0.8394\n",
      "Epoch 96/100\n",
      "258/258 [==============================] - 1s 3ms/step - loss: 0.3620 - accuracy: 0.8419\n",
      "Epoch 97/100\n",
      "258/258 [==============================] - 1s 2ms/step - loss: 0.3613 - accuracy: 0.8426\n",
      "Epoch 98/100\n",
      "258/258 [==============================] - 1s 3ms/step - loss: 0.3616 - accuracy: 0.8440\n",
      "Epoch 99/100\n",
      "258/258 [==============================] - 1s 2ms/step - loss: 0.3597 - accuracy: 0.8422\n",
      "Epoch 100/100\n",
      "258/258 [==============================] - 0s 2ms/step - loss: 0.3587 - accuracy: 0.8452\n",
      "65/65 [==============================] - 0s 2ms/step - loss: 0.4781 - accuracy: 0.7958\n",
      "[0.47806236147880554, 0.7958292961120605]\n",
      "65/65 [==============================] - 0s 2ms/step\n",
      "Classification Report: \n",
      "               precision    recall  f1-score   support\n",
      "\n",
      "           0       0.82      0.76      0.79      1031\n",
      "           1       0.78      0.83      0.80      1031\n",
      "\n",
      "    accuracy                           0.80      2062\n",
      "   macro avg       0.80      0.80      0.80      2062\n",
      "weighted avg       0.80      0.80      0.80      2062\n",
      "\n"
     ]
    }
   ],
   "source": [
    "y_preds = ANN(X_train, y_train, X_test, y_test, 'binary_crossentropy', -1)"
   ]
  },
  {
   "cell_type": "markdown",
   "id": "81683219",
   "metadata": {},
   "source": [
    "### Method3: SMOTE"
   ]
  },
  {
   "cell_type": "code",
   "execution_count": 96,
   "id": "6e66e8bd",
   "metadata": {},
   "outputs": [],
   "source": [
    "X = df2.drop('Churn',axis='columns')\n",
    "y = df2['Churn']"
   ]
  },
  {
   "cell_type": "code",
   "execution_count": 98,
   "id": "af0ec4dc",
   "metadata": {},
   "outputs": [
    {
     "data": {
      "text/plain": [
       "0    5153\n",
       "1    5153\n",
       "Name: Churn, dtype: int64"
      ]
     },
     "execution_count": 98,
     "metadata": {},
     "output_type": "execute_result"
    }
   ],
   "source": [
    "from imblearn.over_sampling import SMOTE\n",
    "\n",
    "# Create an instance of the SMOTE resampler\n",
    "smote = SMOTE(sampling_strategy='minority')\n",
    "\n",
    "# Use fit_resample to apply SMOTE\n",
    "X_sm, y_sm = smote.fit_resample(X, y)\n",
    "\n",
    "y_sm.value_counts()"
   ]
  },
  {
   "cell_type": "code",
   "execution_count": 99,
   "id": "4e5944bc",
   "metadata": {},
   "outputs": [],
   "source": [
    "from sklearn.model_selection import train_test_split\n",
    "X_train, X_test, y_train, y_test = train_test_split(X_sm, y_sm, test_size=0.2, random_state=15, stratify=y_sm)"
   ]
  },
  {
   "cell_type": "code",
   "execution_count": 100,
   "id": "d30725dd",
   "metadata": {},
   "outputs": [
    {
     "data": {
      "text/plain": [
       "0    4122\n",
       "1    4122\n",
       "Name: Churn, dtype: int64"
      ]
     },
     "execution_count": 100,
     "metadata": {},
     "output_type": "execute_result"
    }
   ],
   "source": [
    "# Number of classes in training Data\n",
    "y_train.value_counts()"
   ]
  },
  {
   "cell_type": "code",
   "execution_count": 101,
   "id": "4f97c5f7",
   "metadata": {},
   "outputs": [
    {
     "name": "stdout",
     "output_type": "stream",
     "text": [
      "Epoch 1/100\n",
      "258/258 [==============================] - 1s 2ms/step - loss: 0.5228 - accuracy: 0.7468\n",
      "Epoch 2/100\n",
      "258/258 [==============================] - 1s 2ms/step - loss: 0.4626 - accuracy: 0.7784\n",
      "Epoch 3/100\n",
      "258/258 [==============================] - 1s 2ms/step - loss: 0.4555 - accuracy: 0.7853\n",
      "Epoch 4/100\n",
      "258/258 [==============================] - 1s 2ms/step - loss: 0.4501 - accuracy: 0.7848\n",
      "Epoch 5/100\n",
      "258/258 [==============================] - 0s 2ms/step - loss: 0.4453 - accuracy: 0.7883\n",
      "Epoch 6/100\n",
      "258/258 [==============================] - 1s 2ms/step - loss: 0.4402 - accuracy: 0.7910\n",
      "Epoch 7/100\n",
      "258/258 [==============================] - 1s 3ms/step - loss: 0.4362 - accuracy: 0.7960\n",
      "Epoch 8/100\n",
      "258/258 [==============================] - 1s 3ms/step - loss: 0.4325 - accuracy: 0.7974\n",
      "Epoch 9/100\n",
      "258/258 [==============================] - 1s 3ms/step - loss: 0.4290 - accuracy: 0.8019\n",
      "Epoch 10/100\n",
      "258/258 [==============================] - 1s 3ms/step - loss: 0.4251 - accuracy: 0.7988\n",
      "Epoch 11/100\n",
      "258/258 [==============================] - 1s 2ms/step - loss: 0.4214 - accuracy: 0.8030\n",
      "Epoch 12/100\n",
      "258/258 [==============================] - 1s 2ms/step - loss: 0.4171 - accuracy: 0.8077\n",
      "Epoch 13/100\n",
      "258/258 [==============================] - 1s 3ms/step - loss: 0.4154 - accuracy: 0.8080\n",
      "Epoch 14/100\n",
      "258/258 [==============================] - 1s 3ms/step - loss: 0.4129 - accuracy: 0.8108\n",
      "Epoch 15/100\n",
      "258/258 [==============================] - 1s 3ms/step - loss: 0.4089 - accuracy: 0.8133\n",
      "Epoch 16/100\n",
      "258/258 [==============================] - 1s 3ms/step - loss: 0.4050 - accuracy: 0.8182\n",
      "Epoch 17/100\n",
      "258/258 [==============================] - 1s 3ms/step - loss: 0.4034 - accuracy: 0.8159\n",
      "Epoch 18/100\n",
      "258/258 [==============================] - 1s 3ms/step - loss: 0.4017 - accuracy: 0.8190\n",
      "Epoch 19/100\n",
      "258/258 [==============================] - 1s 3ms/step - loss: 0.3983 - accuracy: 0.8223\n",
      "Epoch 20/100\n",
      "258/258 [==============================] - 1s 3ms/step - loss: 0.3960 - accuracy: 0.8230\n",
      "Epoch 21/100\n",
      "258/258 [==============================] - 1s 3ms/step - loss: 0.3943 - accuracy: 0.8247\n",
      "Epoch 22/100\n",
      "258/258 [==============================] - 1s 3ms/step - loss: 0.3919 - accuracy: 0.8213\n",
      "Epoch 23/100\n",
      "258/258 [==============================] - 1s 3ms/step - loss: 0.3913 - accuracy: 0.8230\n",
      "Epoch 24/100\n",
      "258/258 [==============================] - 1s 3ms/step - loss: 0.3878 - accuracy: 0.8278\n",
      "Epoch 25/100\n",
      "258/258 [==============================] - 1s 3ms/step - loss: 0.3872 - accuracy: 0.8250\n",
      "Epoch 26/100\n",
      "258/258 [==============================] - 1s 3ms/step - loss: 0.3850 - accuracy: 0.8274\n",
      "Epoch 27/100\n",
      "258/258 [==============================] - 1s 2ms/step - loss: 0.3838 - accuracy: 0.8301\n",
      "Epoch 28/100\n",
      "258/258 [==============================] - 1s 3ms/step - loss: 0.3826 - accuracy: 0.8304\n",
      "Epoch 29/100\n",
      "258/258 [==============================] - 1s 3ms/step - loss: 0.3806 - accuracy: 0.8291\n",
      "Epoch 30/100\n",
      "258/258 [==============================] - 1s 3ms/step - loss: 0.3798 - accuracy: 0.8310\n",
      "Epoch 31/100\n",
      "258/258 [==============================] - 1s 3ms/step - loss: 0.3801 - accuracy: 0.8297\n",
      "Epoch 32/100\n",
      "258/258 [==============================] - 1s 2ms/step - loss: 0.3757 - accuracy: 0.8358\n",
      "Epoch 33/100\n",
      "258/258 [==============================] - 1s 3ms/step - loss: 0.3753 - accuracy: 0.8353\n",
      "Epoch 34/100\n",
      "258/258 [==============================] - 1s 3ms/step - loss: 0.3738 - accuracy: 0.8349\n",
      "Epoch 35/100\n",
      "258/258 [==============================] - 1s 3ms/step - loss: 0.3746 - accuracy: 0.8344\n",
      "Epoch 36/100\n",
      "258/258 [==============================] - 1s 3ms/step - loss: 0.3696 - accuracy: 0.8362\n",
      "Epoch 37/100\n",
      "258/258 [==============================] - 1s 3ms/step - loss: 0.3683 - accuracy: 0.8402\n",
      "Epoch 38/100\n",
      "258/258 [==============================] - 1s 3ms/step - loss: 0.3710 - accuracy: 0.8338\n",
      "Epoch 39/100\n",
      "258/258 [==============================] - 1s 3ms/step - loss: 0.3663 - accuracy: 0.8362\n",
      "Epoch 40/100\n",
      "258/258 [==============================] - 1s 3ms/step - loss: 0.3663 - accuracy: 0.8376\n",
      "Epoch 41/100\n",
      "258/258 [==============================] - 1s 3ms/step - loss: 0.3625 - accuracy: 0.8395\n",
      "Epoch 42/100\n",
      "258/258 [==============================] - 1s 3ms/step - loss: 0.3643 - accuracy: 0.8395\n",
      "Epoch 43/100\n",
      "258/258 [==============================] - 1s 3ms/step - loss: 0.3643 - accuracy: 0.8401\n",
      "Epoch 44/100\n",
      "258/258 [==============================] - 1s 3ms/step - loss: 0.3633 - accuracy: 0.8411\n",
      "Epoch 45/100\n",
      "258/258 [==============================] - 1s 3ms/step - loss: 0.3616 - accuracy: 0.8398\n",
      "Epoch 46/100\n",
      "258/258 [==============================] - 1s 3ms/step - loss: 0.3601 - accuracy: 0.8405\n",
      "Epoch 47/100\n",
      "258/258 [==============================] - 1s 3ms/step - loss: 0.3576 - accuracy: 0.8462\n",
      "Epoch 48/100\n",
      "258/258 [==============================] - 1s 3ms/step - loss: 0.3559 - accuracy: 0.8429\n",
      "Epoch 49/100\n",
      "258/258 [==============================] - 1s 2ms/step - loss: 0.3573 - accuracy: 0.8457\n",
      "Epoch 50/100\n",
      "258/258 [==============================] - 1s 2ms/step - loss: 0.3555 - accuracy: 0.8445\n",
      "Epoch 51/100\n",
      "258/258 [==============================] - 1s 3ms/step - loss: 0.3529 - accuracy: 0.8486\n",
      "Epoch 52/100\n",
      "258/258 [==============================] - 1s 3ms/step - loss: 0.3552 - accuracy: 0.8444\n",
      "Epoch 53/100\n",
      "258/258 [==============================] - 1s 3ms/step - loss: 0.3546 - accuracy: 0.8446\n",
      "Epoch 54/100\n",
      "258/258 [==============================] - 1s 3ms/step - loss: 0.3515 - accuracy: 0.8464\n",
      "Epoch 55/100\n",
      "258/258 [==============================] - 1s 3ms/step - loss: 0.3519 - accuracy: 0.8472\n",
      "Epoch 56/100\n",
      "258/258 [==============================] - 1s 3ms/step - loss: 0.3505 - accuracy: 0.8486\n",
      "Epoch 57/100\n",
      "258/258 [==============================] - 1s 3ms/step - loss: 0.3511 - accuracy: 0.8489\n",
      "Epoch 58/100\n",
      "258/258 [==============================] - 1s 3ms/step - loss: 0.3497 - accuracy: 0.8443\n",
      "Epoch 59/100\n",
      "258/258 [==============================] - 1s 2ms/step - loss: 0.3466 - accuracy: 0.8509\n",
      "Epoch 60/100\n",
      "258/258 [==============================] - 1s 3ms/step - loss: 0.3491 - accuracy: 0.8480\n",
      "Epoch 61/100\n",
      "258/258 [==============================] - 1s 3ms/step - loss: 0.3468 - accuracy: 0.8496\n",
      "Epoch 62/100\n",
      "258/258 [==============================] - 1s 3ms/step - loss: 0.3491 - accuracy: 0.8469\n",
      "Epoch 63/100\n",
      "258/258 [==============================] - 1s 3ms/step - loss: 0.3444 - accuracy: 0.8490\n",
      "Epoch 64/100\n",
      "258/258 [==============================] - 1s 3ms/step - loss: 0.3465 - accuracy: 0.8508\n",
      "Epoch 65/100\n",
      "258/258 [==============================] - 1s 3ms/step - loss: 0.3423 - accuracy: 0.8515\n",
      "Epoch 66/100\n",
      "258/258 [==============================] - 1s 2ms/step - loss: 0.3428 - accuracy: 0.8489\n",
      "Epoch 67/100\n",
      "258/258 [==============================] - 1s 3ms/step - loss: 0.3458 - accuracy: 0.8490\n",
      "Epoch 68/100\n",
      "258/258 [==============================] - 1s 3ms/step - loss: 0.3457 - accuracy: 0.8493\n",
      "Epoch 69/100\n",
      "258/258 [==============================] - 1s 3ms/step - loss: 0.3413 - accuracy: 0.8512\n",
      "Epoch 70/100\n",
      "258/258 [==============================] - 1s 3ms/step - loss: 0.3412 - accuracy: 0.8543\n",
      "Epoch 71/100\n",
      "258/258 [==============================] - 1s 3ms/step - loss: 0.3393 - accuracy: 0.8530\n",
      "Epoch 72/100\n",
      "258/258 [==============================] - 1s 3ms/step - loss: 0.3408 - accuracy: 0.8523\n",
      "Epoch 73/100\n",
      "258/258 [==============================] - 1s 3ms/step - loss: 0.3391 - accuracy: 0.8538\n",
      "Epoch 74/100\n",
      "258/258 [==============================] - 1s 3ms/step - loss: 0.3399 - accuracy: 0.8521\n",
      "Epoch 75/100\n",
      "258/258 [==============================] - 1s 3ms/step - loss: 0.3370 - accuracy: 0.8536\n",
      "Epoch 76/100\n",
      "258/258 [==============================] - 1s 3ms/step - loss: 0.3384 - accuracy: 0.8504\n",
      "Epoch 77/100\n",
      "258/258 [==============================] - 1s 3ms/step - loss: 0.3356 - accuracy: 0.8552\n",
      "Epoch 78/100\n",
      "258/258 [==============================] - 1s 3ms/step - loss: 0.3358 - accuracy: 0.8559\n",
      "Epoch 79/100\n",
      "258/258 [==============================] - 1s 3ms/step - loss: 0.3375 - accuracy: 0.8525\n",
      "Epoch 80/100\n",
      "258/258 [==============================] - 1s 3ms/step - loss: 0.3362 - accuracy: 0.8547\n",
      "Epoch 81/100\n"
     ]
    },
    {
     "name": "stdout",
     "output_type": "stream",
     "text": [
      "258/258 [==============================] - 1s 3ms/step - loss: 0.3334 - accuracy: 0.8578\n",
      "Epoch 82/100\n",
      "258/258 [==============================] - 1s 3ms/step - loss: 0.3358 - accuracy: 0.8538\n",
      "Epoch 83/100\n",
      "258/258 [==============================] - 1s 3ms/step - loss: 0.3329 - accuracy: 0.8566\n",
      "Epoch 84/100\n",
      "258/258 [==============================] - 1s 2ms/step - loss: 0.3312 - accuracy: 0.8576\n",
      "Epoch 85/100\n",
      "258/258 [==============================] - 1s 3ms/step - loss: 0.3342 - accuracy: 0.8536\n",
      "Epoch 86/100\n",
      "258/258 [==============================] - 1s 3ms/step - loss: 0.3364 - accuracy: 0.8553\n",
      "Epoch 87/100\n",
      "258/258 [==============================] - 1s 3ms/step - loss: 0.3335 - accuracy: 0.8561\n",
      "Epoch 88/100\n",
      "258/258 [==============================] - 1s 3ms/step - loss: 0.3305 - accuracy: 0.8586\n",
      "Epoch 89/100\n",
      "258/258 [==============================] - 1s 3ms/step - loss: 0.3313 - accuracy: 0.8582\n",
      "Epoch 90/100\n",
      "258/258 [==============================] - 1s 3ms/step - loss: 0.3305 - accuracy: 0.8592\n",
      "Epoch 91/100\n",
      "258/258 [==============================] - 1s 3ms/step - loss: 0.3290 - accuracy: 0.8588\n",
      "Epoch 92/100\n",
      "258/258 [==============================] - 1s 3ms/step - loss: 0.3283 - accuracy: 0.8566\n",
      "Epoch 93/100\n",
      "258/258 [==============================] - 1s 3ms/step - loss: 0.3299 - accuracy: 0.8566\n",
      "Epoch 94/100\n",
      "258/258 [==============================] - 1s 3ms/step - loss: 0.3314 - accuracy: 0.8542\n",
      "Epoch 95/100\n",
      "258/258 [==============================] - 1s 3ms/step - loss: 0.3323 - accuracy: 0.8550\n",
      "Epoch 96/100\n",
      "258/258 [==============================] - 1s 3ms/step - loss: 0.3287 - accuracy: 0.8567\n",
      "Epoch 97/100\n",
      "258/258 [==============================] - 1s 3ms/step - loss: 0.3298 - accuracy: 0.8584\n",
      "Epoch 98/100\n",
      "258/258 [==============================] - 1s 3ms/step - loss: 0.3287 - accuracy: 0.8581\n",
      "Epoch 99/100\n",
      "258/258 [==============================] - 1s 3ms/step - loss: 0.3276 - accuracy: 0.8566\n",
      "Epoch 100/100\n",
      "258/258 [==============================] - 1s 3ms/step - loss: 0.3282 - accuracy: 0.8565\n",
      "65/65 [==============================] - 0s 2ms/step - loss: 0.4517 - accuracy: 0.8065\n",
      "[0.4517488181591034, 0.8064985275268555]\n",
      "65/65 [==============================] - 0s 2ms/step\n",
      "Classification Report: \n",
      "               precision    recall  f1-score   support\n",
      "\n",
      "           0       0.82      0.79      0.80      1031\n",
      "           1       0.80      0.82      0.81      1031\n",
      "\n",
      "    accuracy                           0.81      2062\n",
      "   macro avg       0.81      0.81      0.81      2062\n",
      "weighted avg       0.81      0.81      0.81      2062\n",
      "\n"
     ]
    }
   ],
   "source": [
    "y_preds = ANN(X_train, y_train, X_test, y_test, 'binary_crossentropy', -1)"
   ]
  },
  {
   "cell_type": "code",
   "execution_count": null,
   "id": "e83c7755",
   "metadata": {},
   "outputs": [],
   "source": []
  }
 ],
 "metadata": {
  "kernelspec": {
   "display_name": "Python 3 (ipykernel)",
   "language": "python",
   "name": "python3"
  },
  "language_info": {
   "codemirror_mode": {
    "name": "ipython",
    "version": 3
   },
   "file_extension": ".py",
   "mimetype": "text/x-python",
   "name": "python",
   "nbconvert_exporter": "python",
   "pygments_lexer": "ipython3",
   "version": "3.10.9"
  }
 },
 "nbformat": 4,
 "nbformat_minor": 5
}
